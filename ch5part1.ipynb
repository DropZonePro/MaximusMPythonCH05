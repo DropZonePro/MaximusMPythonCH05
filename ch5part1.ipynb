{
  "cells": [
    {
      "cell_type": "markdown",
      "metadata": {
        "id": "JnktmoCqKEbM"
      },
      "source": [
        "<style>\n",
        "\th1 {\n",
        "\t--\tbackground-color: grey;\n",
        "\t\tcolor: yellow\n",
        "\t\tborder: 3px solid grey\n",
        "\n",
        "\t}\n",
        "\tp {\n",
        "\t\tbackground-color: grey;\n",
        "\t\tcolor: white\n",
        "\t\tborder: 3px solid grey\n",
        "\n",
        "\t}\n",
        "</style>\n",
        "<h1> Chapter 5 Functions: Part 1</h1>"
      ]
    },
    {
      "cell_type": "markdown",
      "metadata": {
        "id": "-O5D69j4KEbM"
      },
      "source": [
        "<p style=\"margin-left:40px\">1. 5.1 Introduction to Functions</p>\n",
        "\n",
        "<p style=\"margin-left:40px\">2. 5.2 Defining and Calling a Void Function</p>\n",
        "\n",
        "<p style=\"margin-left:40px\">3. 5.3 Designing a Program to Use Functions</p>\n",
        "\n",
        "<p style=\"margin-left:40px\">4. 5.4 <mark> Local Variables </mark></p>\n",
        "\n",
        "<p style=\"margin-left:40px\">5. 5.5 <mark> Passing Arguments to Functions </mark></p>\n",
        "\n",
        "<p style=\"margin-left:40px\">6. 5.6 Global Variables and Global Constants</p>\n",
        "\n",
        "<p style=\"margin-left:40px\">7. 5.7 Introduction to <mark>Value-Returning Functions </mark>: Generating Random Numbers</p>\n",
        "\n",
        "<p style=\"margin-left:40px\">8. 5.8 Writing Your Own Value-Returning Functions</p>\n",
        "\n",
        "<p style=\"margin-left:40px\">9. 5.9 The math Module</p>\n",
        "\n",
        "<p style=\"margin-left:40px\">10. 5.10 <mark> Storing Functions in Modules <mark> </p>\n",
        "\n",
        "<p style=\"margin-left:40px\">11. 5.11 Turtle Graphics: Modularizing Code with Functions</p>\n"
      ]
    },
    {
      "cell_type": "markdown",
      "metadata": {
        "id": "1OQL9NSJKEbN"
      },
      "source": [
        "***\n",
        "\n",
        "## <p style=\"background-color: grey; color: white \"> ◼️  functions </p>\n",
        "# <p style=\"font-family: Arial; font-size:1.4em;color:red;\"> 1. Basic Examples of Functions</p>\n"
      ]
    },
    {
      "cell_type": "markdown",
      "metadata": {
        "id": "240Qn7meKEbN"
      },
      "source": [
        "<style>\n",
        "\th3{\n",
        "\t\tbackground-color: grey\n",
        "\t\tcolor: white\n",
        "\t}\n",
        "</style>\n",
        "\n",
        "<h3> First example of function </h3>\n",
        "\n",
        "- Run all the following code cells and check out the result of code segments"
      ]
    },
    {
      "cell_type": "markdown",
      "metadata": {
        "id": "Jhjoy9LwKEbN"
      },
      "source": [
        "#### <p style=\"font-family: Arial; font-size:1.4em; background-color: yellow; color:black;\"> Problem #1.0 </p>\n",
        "\n",
        "#### Run all the cells and figure out the basic usage of while loop structure"
      ]
    },
    {
      "cell_type": "code",
      "execution_count": null,
      "metadata": {
        "id": "BPY2h1VNKEbN"
      },
      "outputs": [],
      "source": [
        "def fn():\n",
        "\treturn\n",
        "\n",
        "if __name__ == '__main__':\n",
        "\tfn( )\n",
        "\n"
      ]
    },
    {
      "cell_type": "code",
      "execution_count": null,
      "metadata": {
        "colab": {
          "base_uri": "https://localhost:8080/"
        },
        "id": "1hWwxOTSKEbO",
        "outputId": "3e75febc-f2b6-4601-f29f-90f67fac8a2e"
      },
      "outputs": [
        {
          "name": "stdout",
          "output_type": "stream",
          "text": [
            "13\n"
          ]
        }
      ],
      "source": [
        "# Function to return 0 or 1\n",
        "# if the number is even, return 0, otherwise 1\n",
        "#  checknum ( )\n",
        "\n",
        "def checknum(n):\n",
        "\tif n%2 == 0:\n",
        "\t\treturn 0\n",
        "\telse:\n",
        "\t\treturn 1\n",
        "\n",
        "userinput = int(input())\n",
        "retval = checknum(userinput)\n",
        "\n",
        "\n"
      ]
    },
    {
      "cell_type": "code",
      "execution_count": null,
      "metadata": {
        "colab": {
          "base_uri": "https://localhost:8080/"
        },
        "id": "WGDnplPtKEbO",
        "outputId": "eace295c-b38a-435f-86c2-c392ee2b35e1"
      },
      "outputs": [
        {
          "output_type": "stream",
          "name": "stdout",
          "text": [
            "[1, 2, 3, 4, 5, 6, 7]\n",
            "[1, 2, 3, 4, 5, 6, 7]\n",
            "[1, 2, 3, 4, 5, 6, 7]\n",
            "[1, 2, 3, 4, 5, 6, 7]\n"
          ]
        }
      ],
      "source": [
        "def printlst(l):\n",
        "\taverage = sum(l) / len(l)\n",
        "\tfor v in l:\n",
        "\t\tif ( average > v):\n",
        "\t\t\tprint(l)\n",
        "\n",
        "lst = [1,2,3,4,5,6,7]\n",
        "printlst(lst) # print all numbers less than avg\n",
        "print (lst)\n"
      ]
    },
    {
      "cell_type": "code",
      "execution_count": null,
      "metadata": {
        "colab": {
          "base_uri": "https://localhost:8080/"
        },
        "id": "TQZfy4biKEbO",
        "outputId": "eb6c0083-efe3-4ca4-b832-311e77a96a99"
      },
      "outputs": [
        {
          "output_type": "stream",
          "name": "stdout",
          "text": [
            "25\n",
            "25\n"
          ]
        }
      ],
      "source": [
        "\n",
        "def \tgetinput():\n",
        "\tval = int(input())\n",
        "\treturn val\n",
        "\n",
        "userval = getinput()\n",
        "print (userval)\n",
        "\n",
        "\n"
      ]
    },
    {
      "cell_type": "markdown",
      "metadata": {
        "id": "x6f2iK-aKEbO"
      },
      "source": [
        "### How are the functions called?  \n",
        "#### Compare the below two code segments"
      ]
    },
    {
      "cell_type": "code",
      "execution_count": null,
      "metadata": {
        "id": "4vPaN0peKEbO",
        "outputId": "194155dd-fd55-48fa-e907-052aa45d597e",
        "colab": {
          "base_uri": "https://localhost:8080/"
        }
      },
      "outputs": [
        {
          "output_type": "stream",
          "name": "stdout",
          "text": [
            "19\n",
            "19\n"
          ]
        }
      ],
      "source": [
        "def \tgetinput():\n",
        "\tval = int(input())\n",
        "\treturn val\n",
        "\n",
        "def \tmain():\n",
        "\tuserval = getinput()\n",
        "\tprint (userval)\n",
        "\n",
        "\n",
        "if __name__ == '__main__':\n",
        "\tmain()\n",
        "\n"
      ]
    },
    {
      "cell_type": "code",
      "execution_count": null,
      "metadata": {
        "id": "Tp4h6fxlKEbO"
      },
      "outputs": [],
      "source": [
        "def \tgetinput():\n",
        "\tval = int(input())\n",
        "\treturn val\n",
        "\n",
        "def \tmain():\n",
        "\tuserval = getinput()\n",
        "\tprint (userval)\n"
      ]
    },
    {
      "cell_type": "markdown",
      "metadata": {
        "id": "GLVW2h1kKEbO"
      },
      "source": [
        "#### <p style=\"font-family: Arial; font-size:1.4em; background-color: yellow; color:black;\"> Problem #1.1 </p>\n",
        "\n",
        "####  Edit the above code cell to run main() function\n",
        "\n",
        "```\n",
        "def \tgetinput():\n",
        "\tval = int(input())\n",
        "\treturn val\n",
        "\n",
        "def \tmain():\n",
        "\tuserval = getinput()\n",
        "\tprint (userval)\n",
        "\tif __name__ == '__main__':\n",
        "\t\tmain()\n",
        "```"
      ]
    },
    {
      "cell_type": "code",
      "execution_count": null,
      "metadata": {
        "id": "zPfChTmqKEbO"
      },
      "outputs": [],
      "source": [
        "# complete the code to run the main function\n"
      ]
    },
    {
      "cell_type": "markdown",
      "metadata": {
        "id": "CZhocoDUKEbO"
      },
      "source": [
        "#### <p style=\"font-family: Arial; font-size:1.4em; background-color: yellow; color:black;\"> Problem #1.2 </p>\n",
        "\n",
        "####  Check out this code. This code is working without main() function.\n",
        "#### Explain how this code is working properly without main() function\n",
        "\n",
        "```\n",
        "def \tgetinput():\n",
        "\tval = int(input())\n",
        "\treturn val\n",
        "\n",
        "userval = getinput()\n",
        "print (userval)\n",
        "```"
      ]
    },
    {
      "cell_type": "code",
      "execution_count": null,
      "metadata": {
        "id": "zwg8eXaSKEbO",
        "outputId": "57915c81-fbce-4f64-f2e7-79b96544a716"
      },
      "outputs": [
        {
          "name": "stdout",
          "output_type": "stream",
          "text": [
            "1\n"
          ]
        }
      ],
      "source": [
        "def \tgetinput():\n",
        "\tval = int(input())\n",
        "\treturn val\n",
        "\n",
        "userval = getinput()\n",
        "print (userval)\n"
      ]
    },
    {
      "cell_type": "markdown",
      "metadata": {
        "id": "CtdV3rrOKEbP"
      },
      "source": [
        "## Don't forget to <font color='red'> **\"commit\"** </font> your work or <font color='red'> **\"save\"** </font> in Google Colab\n",
        "## before moving to the next section."
      ]
    },
    {
      "cell_type": "markdown",
      "metadata": {
        "id": "ozBnj5BaKEbP"
      },
      "source": [
        "***\n",
        "\n",
        "## <p style=\"background-color: grey; color: white \"> ◼️  Local Variables </p>\n",
        "# <p style=\"font-family: Arial; font-size:1.4em;color:red;\"> 2. Local Variables </p>\n"
      ]
    },
    {
      "cell_type": "markdown",
      "metadata": {
        "id": "4WKwvtI-KEbP"
      },
      "source": [
        "### Check out the variable \"userval\" after the function call \"getinput()\""
      ]
    },
    {
      "cell_type": "code",
      "execution_count": 13,
      "metadata": {
        "id": "Nn6e-uGuKEbP",
        "colab": {
          "base_uri": "https://localhost:8080/"
        },
        "outputId": "701c54e9-3f86-4ab3-bbc9-4c58f53abe53"
      },
      "outputs": [
        {
          "output_type": "stream",
          "name": "stdout",
          "text": [
            "27\n",
            "27\n"
          ]
        }
      ],
      "source": [
        "def \tgetinput():\n",
        "\tval = int(input())\n",
        "\treturn val\n",
        "\n",
        "def \tmain():\n",
        "\tuserval = getinput()\n",
        "\tprint (userval)\n",
        "\t# print (val)\n",
        "\n",
        "if __name__ == '__main__':\n",
        "\tmain()\n",
        "\n"
      ]
    },
    {
      "cell_type": "code",
      "execution_count": 14,
      "metadata": {
        "id": "YnNHBRjXKEbP",
        "colab": {
          "base_uri": "https://localhost:8080/"
        },
        "outputId": "b16ad170-939d-456d-948f-a4ec1c4e94f9"
      },
      "outputs": [
        {
          "output_type": "stream",
          "name": "stdout",
          "text": [
            "30\n"
          ]
        }
      ],
      "source": [
        "def getsum(n1, n2):\n",
        "\tval = n1 + n2\n",
        "\treturn val\n",
        "\n",
        "def main():\n",
        "\ta = 10; b = 20\n",
        "\tuserval = getsum(a, b)\n",
        "\tprint (userval)\n",
        "\n",
        "if __name__ == '__main__':\n",
        "\tmain()\n"
      ]
    },
    {
      "cell_type": "markdown",
      "metadata": {
        "id": "DYOzutEFKEbP"
      },
      "source": [
        "<style>\n",
        "\tp {\n",
        "\t\tbackground-color: grey;\n",
        "\t\tcolor: white;\n",
        "\t\tborder: 3px solid grey\n",
        "\n",
        "\t}\n",
        "</style>\n",
        "\n",
        "<p> Making Changes to Parameters </p>\n"
      ]
    },
    {
      "cell_type": "markdown",
      "metadata": {
        "id": "s_ZUu6qqKEbP"
      },
      "source": [
        "#### <p style=\"font-family: Arial; font-size:1.4em; background-color: yellow; color:black;\"> Problem #2.1 </p>\n",
        "\n",
        "####  Check out this code. After the function call \"getinput()\" at the line 8 in the main function,  \n",
        "#### show the  values \"a\" and \"b\"\n"
      ]
    },
    {
      "cell_type": "code",
      "execution_count": 15,
      "metadata": {
        "id": "62yzkYP2KEbP",
        "colab": {
          "base_uri": "https://localhost:8080/"
        },
        "outputId": "51c68f42-f284-4aec-a3be-388eab874e5a"
      },
      "outputs": [
        {
          "output_type": "stream",
          "name": "stdout",
          "text": [
            "20\n",
            "30\n",
            "The value of parameter n1 and n2 are 20 and 30\n",
            "The value of a and b are 0 and 0\n"
          ]
        }
      ],
      "source": [
        "\n",
        "def getinput(n1, n2):\n",
        "\tn1 = input()\n",
        "\tn2 = input()\n",
        "\tprint (\"The value of parameter n1 and n2 are {0} and {1}\".format(n1, n2))\n",
        "\n",
        "def main():\n",
        "\ta = 0; b = 0\n",
        "\tgetinput(a, b)\n",
        "\tprint (\"The value of a and b are {0} and {1}\".format(a, b))\n",
        "\n",
        "if __name__ == '__main__':\n",
        "\tmain()\n"
      ]
    },
    {
      "cell_type": "markdown",
      "metadata": {
        "id": "gwW23jggKEbP"
      },
      "source": [
        "### <mark> Explain why both values are 0 </mark>\n",
        "\n",
        "- You can use this markdown box to answer to the question\n",
        "\n",
        "# The reason why both values are 0 is because they get reassigned the value 0 and the beginning of the main function. It seems to be sort of a trick question."
      ]
    },
    {
      "cell_type": "markdown",
      "metadata": {
        "id": "YMHI6MPvKEbP"
      },
      "source": [
        "---\n",
        "#### <p style=\"font-family: Arial; font-size:1.4em; background-color: yellow; color:black;\"> Problem #2.2 </p>\n",
        "\n",
        "####  Check out this code. After the function call \"getinput()\" in the main function,  \n",
        "#### show the  values \"list1\". Explain the result.\n",
        "### In problem 2.1, there were no changes even though the values were altered in the function getinput().\n",
        "### In this code, when you assign the values to the list \"l1\", these changes affect to the main function.\n"
      ]
    },
    {
      "cell_type": "markdown",
      "metadata": {
        "id": "GURfsFIdKEbP"
      },
      "source": [
        "<style>\n",
        "\tp {\n",
        "\t\tbackground-color: grey;\n",
        "\t\tcolor: white;\n",
        "\t\tborder: 3px solid grey\n",
        "\n",
        "\t}\n",
        "</style>\n",
        "\n",
        "<p> Making Changes to Parameters 2 </p>\n"
      ]
    },
    {
      "cell_type": "code",
      "execution_count": 16,
      "metadata": {
        "id": "IoShd-3kKEbP",
        "colab": {
          "base_uri": "https://localhost:8080/"
        },
        "outputId": "2203598f-702f-477b-f5d9-9dcfb1e8235c"
      },
      "outputs": [
        {
          "output_type": "stream",
          "name": "stdout",
          "text": [
            "25\n",
            "26\n",
            "27\n",
            "The value of parameter l1  ['25', '26', '27']\n",
            "The value of list1 ['25', '26', '27']\n"
          ]
        }
      ],
      "source": [
        "\n",
        "def getinput(l1):\n",
        "\tl1.append(input())\n",
        "\tl1.append(input())\n",
        "\tl1.append(input())\n",
        "\tprint (\"The value of parameter l1 \", l1)\n",
        "\n",
        "def main():\n",
        "\tlist1 = []\n",
        "\tgetinput(list1)\n",
        "\tprint (\"The value of list1\", list1);\n",
        "\n",
        "if __name__ == '__main__':\n",
        "\tmain()\n"
      ]
    },
    {
      "cell_type": "markdown",
      "metadata": {
        "id": "WTIssWRFKEbP"
      },
      "source": [
        "## Answer the question 2.2 here\n",
        "- You can use Markdown syntax to make the MarkDown Text\n",
        "# The reason why this program outputs the list in both function calls is due to the list1 within the main() function being declared as an empty list and filled with the contents of the l1 list in the very next line."
      ]
    },
    {
      "cell_type": "markdown",
      "metadata": {
        "id": "le2TYAw5KEbP"
      },
      "source": [
        "---\n",
        "#### <p style=\"font-family: Arial; font-size:1.4em; background-color: yellow; color:black;\"> Problem #2.3 </p>\n",
        "\n",
        "####  Check out this code.\n",
        "####  Can we return multiple values in the function?\n"
      ]
    },
    {
      "cell_type": "markdown",
      "metadata": {
        "id": "Ely5n1TMKEbP"
      },
      "source": [
        "<style>\n",
        "\tp {\n",
        "\t\tbackground-color: grey;\n",
        "\t\tcolor: white;\n",
        "\t\tborder: 3px solid grey\n",
        "\n",
        "\t}\n",
        "</style>\n",
        "\n",
        "<p> Returning multiple values</p>\n"
      ]
    },
    {
      "cell_type": "code",
      "execution_count": 17,
      "metadata": {
        "id": "EIkc7y1uKEbP",
        "colab": {
          "base_uri": "https://localhost:8080/"
        },
        "outputId": "30dba450-838f-4398-d6f8-0b0a01126847"
      },
      "outputs": [
        {
          "output_type": "stream",
          "name": "stdout",
          "text": [
            "12\n",
            "15\n",
            "The value of num1 and num2 are 12 and 15\n"
          ]
        }
      ],
      "source": [
        "\n",
        "def getinput():\n",
        "\tval1 = input()\n",
        "\tval2 = input()\n",
        "\treturn val1, val2\n",
        "\n",
        "def main():\n",
        "\tnum1, num2 = getinput()\n",
        "\tprint (\"The value of num1 and num2 are {0} and {1}\".format(num1, num2))\n",
        "\n",
        "if __name__ == '__main__':\n",
        "\tmain()\n"
      ]
    },
    {
      "cell_type": "markdown",
      "metadata": {
        "id": "LlixK8qwKEbQ"
      },
      "source": [
        "## Answer the question 2.3 here\n",
        "- You can use Markdown syntax to make the MarkDown Text\n",
        "# Yes, we can return multiple values within a function. If this were not true, then only num1 would hold a value as the code would not acknowledge val2 in the return statement or there would be an error I assume."
      ]
    },
    {
      "cell_type": "markdown",
      "metadata": {
        "id": "CXUGD47PKEbQ"
      },
      "source": [
        "---\n",
        "#### <p style=\"font-family: Arial; font-size:1.4em; background-color: yellow; color:black;\"> Problem #2.4 </p>\n",
        "\n",
        "####  Print the local variable that was used in the function getsum() in the main() function.\n",
        "####  Can we print the same value ? Errors? Why?\n",
        "#### Suggest how we can print the 'total' of the function getsum() in the main()\n"
      ]
    },
    {
      "cell_type": "code",
      "execution_count": 18,
      "metadata": {
        "id": "KSrc-_03KEbQ",
        "colab": {
          "base_uri": "https://localhost:8080/"
        },
        "outputId": "fe4036d6-50c7-4284-b046-8145375b2267"
      },
      "outputs": [
        {
          "output_type": "stream",
          "name": "stdout",
          "text": [
            "Total is 30\n",
            "Total is 0\n"
          ]
        }
      ],
      "source": [
        "def getsum(n1, n2):\n",
        "    total = n1 + n2\n",
        "    print(f'Total is {total}')\n",
        "\n",
        "def main():\n",
        "    total = 0\n",
        "    num1 = 10\n",
        "    num2 = 20\n",
        "    getsum(num1, num2)\n",
        "    print(f'Total is {total}')\n",
        "\n",
        "if __name__ == '__main__':\n",
        "    main()"
      ]
    },
    {
      "cell_type": "markdown",
      "metadata": {
        "id": "NdWc_0PKKEbQ"
      },
      "source": [
        "## Answer the question 2.4 here\n",
        "- You can use Markdown syntax to make the MarkDown Text\n",
        "# We can indeed print the same value if we did not declare total as 0 within the main() function. I do not see any errors within this code."
      ]
    },
    {
      "cell_type": "markdown",
      "metadata": {
        "id": "lCkpUQmxKEbQ"
      },
      "source": [
        "---\n",
        "## Don't forget to <font color='red'> **\"commit\"** </font> your work or <font color='red'> **\"save\"** </font> in Google Colab\n",
        "## before moving to the next section."
      ]
    },
    {
      "cell_type": "markdown",
      "metadata": {
        "id": "H67Zoqh_KEbQ"
      },
      "source": [
        "<style>\n",
        "\tp {\n",
        "\t\tbackground-color: grey;\n",
        "\t\tcolor: white;\n",
        "\t\tborder: 3px solid grey\n",
        "\n",
        "\t}\n",
        "</style>\n",
        "\n",
        "<p> Keyword Arguments </p>\n"
      ]
    },
    {
      "cell_type": "markdown",
      "metadata": {
        "id": "0eo79K0iKEbQ"
      },
      "source": [
        "***\n",
        "## <p style=\"background-color: grey; color: white \"> ◼️  Keyworded Arguments </p>\n",
        "# <p style=\"font-family: Arial; font-size:1.4em;color:red;\"> 3. Keyworded Arguments</p>\n"
      ]
    },
    {
      "cell_type": "markdown",
      "metadata": {
        "id": "c6TP0VwRKEbQ"
      },
      "source": [
        "#### The parameter order can be changed if the keyworded arguments are used"
      ]
    },
    {
      "cell_type": "code",
      "execution_count": 19,
      "metadata": {
        "id": "XEQfd3o_KEbQ",
        "colab": {
          "base_uri": "https://localhost:8080/"
        },
        "outputId": "eb1994cf-f26a-45cd-9ac6-b4a639c0c7ed"
      },
      "outputs": [
        {
          "output_type": "stream",
          "name": "stdout",
          "text": [
            "The first parameter n1 is 200\n",
            "The second parameter n2 is 100\n",
            "The total is 300\n",
            "The value of total is 300\n"
          ]
        }
      ],
      "source": [
        "\n",
        "def getsum(n1, n2):\n",
        "\tprint (f'The first parameter n1 is {n1}')\n",
        "\tprint (f'The second parameter n2 is {n2}')\n",
        "\ttotal = n1 + n2\n",
        "\tprint (f'The total is {total}')\n",
        "\treturn total\n",
        "\n",
        "def main():\n",
        "\ttotal = getsum(n2=100, n1=200)\t# giving the second parameter first\n",
        "\tprint (f'The value of total is {total}')\n",
        "\n",
        "if __name__ == '__main__':\n",
        "\tmain()"
      ]
    },
    {
      "cell_type": "markdown",
      "metadata": {
        "id": "OIQ3JVUyKEbQ"
      },
      "source": [
        "#### <p style=\"font-family: Arial; font-size:1.4em; background-color: yellow; color:black;\"> Problem #3.1 </p>\n",
        "\n",
        "### The function setListValues() will work to make the mylst that has the values 100, 200 and 300\n",
        "####  Complete the function call to make the list as following\n",
        "```\n",
        "mylst = [100, 200, 300]\n"
      ]
    },
    {
      "cell_type": "code",
      "execution_count": 22,
      "metadata": {
        "id": "VBphj8_kKEbQ",
        "colab": {
          "base_uri": "https://localhost:8080/"
        },
        "outputId": "803ad0bc-c78c-4450-9aa7-6d0d23c77dec"
      },
      "outputs": [
        {
          "output_type": "stream",
          "name": "stdout",
          "text": [
            "[100, 200, 300]\n"
          ]
        }
      ],
      "source": [
        "def setListValues(first_element, second_element, third_element):\n",
        "    mylst = []\n",
        "    mylst.append(first_element)\n",
        "    mylst.append(second_element)\n",
        "    mylst.append(third_element)\n",
        "    return mylst\n",
        "\n",
        "def main():\n",
        "    mylst = setListValues(third_element= 300,\n",
        "                  second_element= 200,\n",
        "                  first_element= 100)\n",
        "\n",
        "    print(mylst)\n",
        "\n",
        "if __name__ == '__main__':\n",
        "    main()\n"
      ]
    },
    {
      "cell_type": "markdown",
      "metadata": {
        "id": "Z9DEh6EtKEbQ"
      },
      "source": [
        "### Follow up Question\n",
        "\n",
        "### Is the list \"mylst\" in function \"setListValues()\" as the one in \"main\"?\n",
        "----"
      ]
    },
    {
      "cell_type": "markdown",
      "metadata": {
        "id": "zKLMYEZ0KEbQ"
      },
      "source": [
        "### Your Answer : Yes, the mylst in the setListValues() function and the main() functions are the same because of the return statement at the end of the setListValues() function.\n",
        "---"
      ]
    },
    {
      "cell_type": "markdown",
      "metadata": {
        "id": "oFnnETnvKEbQ"
      },
      "source": [
        "## Don't forget to <font color='red'> **\"commit\"** </font> your work or <font color='red'> **\"save\"** </font> in Google Colab\n",
        "## before moving to the next section."
      ]
    },
    {
      "cell_type": "markdown",
      "metadata": {
        "id": "y_ZYDIbLKEbQ"
      },
      "source": [
        "***\n",
        "## <p style=\"background-color: grey; color: white \"> ◼️  Global Variables </p>\n",
        "# <p style=\"font-family: Arial; font-size:1.4em;color:red;\"> 4. Global Variables</p>\n"
      ]
    },
    {
      "cell_type": "markdown",
      "metadata": {
        "id": "ALHlXJ9oKEbQ"
      },
      "source": [
        "<style>\n",
        "\tp {\n",
        "\t\tbackground-color: grey;\n",
        "\t\tcolor: white;\n",
        "\t\tborder: 3px solid grey\n",
        "\n",
        "\t}\n",
        "</style>\n",
        "\n",
        "<p> Global Variables </p>\n",
        "\n",
        "Run the below code and check out the values <mark> gvar </mark>\n"
      ]
    },
    {
      "cell_type": "code",
      "execution_count": 23,
      "metadata": {
        "id": "K40U5zvkKEbQ",
        "colab": {
          "base_uri": "https://localhost:8080/"
        },
        "outputId": "44022240-660b-4664-b41a-5915644148ff"
      },
      "outputs": [
        {
          "output_type": "stream",
          "name": "stdout",
          "text": [
            "Before call myfunction1  100\n",
            "Inside the function  111\n",
            "After call myfunction1  111\n"
          ]
        }
      ],
      "source": [
        "gvar = 100\n",
        "\n",
        "def myfunction1():\n",
        "\tprint ('Inside the function ', gvar)\n",
        "\n",
        "\n",
        "def main():\n",
        "\tglobal gvar\n",
        "\tprint ('Before call myfunction1 ', gvar)\n",
        "\tgvar += 11\n",
        "\n",
        "\tmyfunction1()\n",
        "\tprint ('After call myfunction1 ', gvar)\n",
        "\n",
        "if __name__ == '__main__':\n",
        "\tmain()"
      ]
    },
    {
      "cell_type": "markdown",
      "metadata": {
        "id": "cVZYzBDVKEbQ"
      },
      "source": [
        "#### <p style=\"font-family: Arial; font-size:1.4em; background-color: yellow; color:black;\"> Problem #4.1 </p>\n",
        "\n",
        "####  Explain the printed the value of \"gvar\"  \n",
        "\n",
        "# My answer: The reason why gvar continously increases by 1 after every print statement is because of the order of the print statements and function call. The first pring statement only prints 100 because the function that does gvar += 1 has not been called yet therefore the value of gvar is 100 up until the first function call. On the second print statement, gvar will be 101 due to the function call directly before it changing the value of gvar. The third print statement changes the value of gvar simply by doing gvar += 1 before it."
      ]
    },
    {
      "cell_type": "code",
      "execution_count": 24,
      "metadata": {
        "id": "OBmy2wTDKEbQ",
        "outputId": "b5e10eb7-3a06-42f3-a62a-b0b3ab630040",
        "colab": {
          "base_uri": "https://localhost:8080/"
        }
      },
      "outputs": [
        {
          "output_type": "stream",
          "name": "stdout",
          "text": [
            "Before call myfunction1  100\n",
            "After call myfunction1  101\n",
            "After increasing by 1 in main function 102\n"
          ]
        }
      ],
      "source": [
        "gvar = 100\n",
        "\n",
        "def myfunction1():\n",
        "    global gvar\n",
        "    gvar += 1\n",
        "\n",
        "def main():\n",
        "\tglobal gvar\n",
        "\tprint ('Before call myfunction1 ', gvar)\n",
        "\tmyfunction1()\n",
        "\tprint ('After call myfunction1 ', gvar)\n",
        "\tgvar += 1\n",
        "\tprint ('After increasing by 1 in main function', gvar)\n",
        "\n",
        "if __name__ == '__main__':\n",
        "\tmain()"
      ]
    },
    {
      "cell_type": "markdown",
      "metadata": {
        "id": "8SYRnE5zKEbQ"
      },
      "source": [
        "#### <p style=\"font-family: Arial; font-size:1.4em; background-color: yellow; color:black;\"> Problem #4.2 </p>\n",
        "\n",
        "####  Explain the printed the value of \"gvar\" is 100 even though it has been increased by 1 in the myfuntion1()\n",
        "\n",
        "# My answer: The reason why the value of gvar remains 100 even after the function call is because myfunction1() does not edit the same gvar as the main() function prints. This is because myfunction1() creates a local variable and does the math on that variable instead of the global gvar which is an entirely different variable altogether that is never touched by myfunction1().\n"
      ]
    },
    {
      "cell_type": "code",
      "execution_count": 25,
      "metadata": {
        "id": "Epi3hFYvKEbR",
        "outputId": "1f0698a3-fbeb-4c4b-f3a8-6884acdb6657",
        "colab": {
          "base_uri": "https://localhost:8080/"
        }
      },
      "outputs": [
        {
          "output_type": "stream",
          "name": "stdout",
          "text": [
            "Before call myfunction1  100\n",
            "After call myfunction1  100\n"
          ]
        }
      ],
      "source": [
        "gvar = 100\n",
        "\n",
        "def myfunction1():\n",
        "    gvar = 0\n",
        "    gvar += 1\n",
        "\n",
        "def main():\n",
        "\tglobal gvar\n",
        "\tprint ('Before call myfunction1 ', gvar)\n",
        "\tmyfunction1()\n",
        "\tprint ('After call myfunction1 ', gvar)\n",
        "\n",
        "if __name__ == '__main__':\n",
        "\tmain()"
      ]
    },
    {
      "cell_type": "markdown",
      "metadata": {
        "id": "IXaGu6tRKEbR"
      },
      "source": [
        "#### <p style=\"font-family: Arial; font-size:1.4em; background-color: yellow; color:black;\"> Problem #4.3 </p>\n",
        "\n",
        "####  Explain why this code encounters error\n",
        "####  Fix the Errors and show the complete code\n",
        "\n",
        "# My answer: The reason why this code shows an error is due to the gvar variable being a local variable and never being properly declared within myfunction1().\n"
      ]
    },
    {
      "cell_type": "code",
      "execution_count": 34,
      "metadata": {
        "id": "glmx8a4wKEbR",
        "colab": {
          "base_uri": "https://localhost:8080/",
          "height": 339
        },
        "collapsed": true,
        "outputId": "a1d18876-7296-4a61-a34c-0c22313c3bdc"
      },
      "outputs": [
        {
          "output_type": "stream",
          "name": "stdout",
          "text": [
            "Before call myfunction1  100\n"
          ]
        },
        {
          "output_type": "error",
          "ename": "UnboundLocalError",
          "evalue": "cannot access local variable 'gvar' where it is not associated with a value",
          "traceback": [
            "\u001b[0;31m---------------------------------------------------------------------------\u001b[0m",
            "\u001b[0;31mUnboundLocalError\u001b[0m                         Traceback (most recent call last)",
            "\u001b[0;32m<ipython-input-34-cda70dc3f9e1>\u001b[0m in \u001b[0;36m<cell line: 0>\u001b[0;34m()\u001b[0m\n\u001b[1;32m     11\u001b[0m \u001b[0;34m\u001b[0m\u001b[0m\n\u001b[1;32m     12\u001b[0m \u001b[0;32mif\u001b[0m \u001b[0m__name__\u001b[0m \u001b[0;34m==\u001b[0m \u001b[0;34m'__main__'\u001b[0m\u001b[0;34m:\u001b[0m\u001b[0;34m\u001b[0m\u001b[0;34m\u001b[0m\u001b[0m\n\u001b[0;32m---> 13\u001b[0;31m         \u001b[0mmain\u001b[0m\u001b[0;34m(\u001b[0m\u001b[0;34m)\u001b[0m\u001b[0;34m\u001b[0m\u001b[0;34m\u001b[0m\u001b[0m\n\u001b[0m",
            "\u001b[0;32m<ipython-input-34-cda70dc3f9e1>\u001b[0m in \u001b[0;36mmain\u001b[0;34m()\u001b[0m\n\u001b[1;32m      7\u001b[0m         \u001b[0;32mglobal\u001b[0m \u001b[0mgvar\u001b[0m\u001b[0;34m\u001b[0m\u001b[0;34m\u001b[0m\u001b[0m\n\u001b[1;32m      8\u001b[0m         \u001b[0mprint\u001b[0m \u001b[0;34m(\u001b[0m\u001b[0;34m'Before call myfunction1 '\u001b[0m\u001b[0;34m,\u001b[0m \u001b[0mgvar\u001b[0m\u001b[0;34m)\u001b[0m\u001b[0;34m\u001b[0m\u001b[0;34m\u001b[0m\u001b[0m\n\u001b[0;32m----> 9\u001b[0;31m         \u001b[0mmyfunction1\u001b[0m\u001b[0;34m(\u001b[0m\u001b[0;34m)\u001b[0m\u001b[0;34m\u001b[0m\u001b[0;34m\u001b[0m\u001b[0m\n\u001b[0m\u001b[1;32m     10\u001b[0m         \u001b[0mprint\u001b[0m \u001b[0;34m(\u001b[0m\u001b[0;34m'After call myfunction1 '\u001b[0m\u001b[0;34m,\u001b[0m \u001b[0mgvar\u001b[0m\u001b[0;34m)\u001b[0m\u001b[0;34m\u001b[0m\u001b[0;34m\u001b[0m\u001b[0m\n\u001b[1;32m     11\u001b[0m \u001b[0;34m\u001b[0m\u001b[0m\n",
            "\u001b[0;32m<ipython-input-34-cda70dc3f9e1>\u001b[0m in \u001b[0;36mmyfunction1\u001b[0;34m()\u001b[0m\n\u001b[1;32m      2\u001b[0m \u001b[0;34m\u001b[0m\u001b[0m\n\u001b[1;32m      3\u001b[0m \u001b[0;32mdef\u001b[0m \u001b[0mmyfunction1\u001b[0m\u001b[0;34m(\u001b[0m\u001b[0;34m)\u001b[0m\u001b[0;34m:\u001b[0m\u001b[0;34m\u001b[0m\u001b[0;34m\u001b[0m\u001b[0m\n\u001b[0;32m----> 4\u001b[0;31m         \u001b[0mgvar\u001b[0m \u001b[0;34m+=\u001b[0m \u001b[0;36m1\u001b[0m\u001b[0;34m\u001b[0m\u001b[0;34m\u001b[0m\u001b[0m\n\u001b[0m\u001b[1;32m      5\u001b[0m \u001b[0;34m\u001b[0m\u001b[0m\n\u001b[1;32m      6\u001b[0m \u001b[0;32mdef\u001b[0m \u001b[0mmain\u001b[0m\u001b[0;34m(\u001b[0m\u001b[0;34m)\u001b[0m\u001b[0;34m:\u001b[0m\u001b[0;34m\u001b[0m\u001b[0;34m\u001b[0m\u001b[0m\n",
            "\u001b[0;31mUnboundLocalError\u001b[0m: cannot access local variable 'gvar' where it is not associated with a value"
          ]
        }
      ],
      "source": [
        "gvar = 100\n",
        "\n",
        "def myfunction1():\n",
        "\tgvar += 1\n",
        "\n",
        "def main():\n",
        "\tglobal gvar\n",
        "\tprint ('Before call myfunction1 ', gvar)\n",
        "\tmyfunction1()\n",
        "\tprint ('After call myfunction1 ', gvar)\n",
        "\n",
        "if __name__ == '__main__':\n",
        "\tmain()"
      ]
    },
    {
      "cell_type": "code",
      "execution_count": null,
      "metadata": {
        "id": "TfqEHvWMKEbR"
      },
      "outputs": [],
      "source": [
        "# Fix the errors and show the complete code here\n",
        "def myfunction1():\n",
        "    gvar = 0\n",
        "    gvar += 1\n",
        "\n",
        "    ...\n"
      ]
    },
    {
      "cell_type": "markdown",
      "metadata": {
        "id": "2L4YXOSzKEbR"
      },
      "source": [
        "## Please <font color='red'> **\"commit\"** </font> your work or <font color='red'> **\"save\"** </font> in Google Colab\n",
        "## before moving to the next section."
      ]
    },
    {
      "cell_type": "markdown",
      "metadata": {
        "id": "iFn4BUumKEbR"
      },
      "source": [
        "***\n",
        "## <p style=\"background-color: grey; color: white \"> ◼️  Arbitrary Arguments and Keyword Arguments</p>\n",
        "# <p style=\"font-family: Arial; font-size:1.4em;color:red;\"> 5. Arbitrary Arguments and Keyword Arguments</p>\n"
      ]
    },
    {
      "cell_type": "markdown",
      "metadata": {
        "id": "8m3zIguMKEbR"
      },
      "source": [
        "## Arbitrary Argument\n",
        "\n",
        "### An arbitrary argument in Python allows a function to accept an unspecified number of arguments using *args for non-keyword arguments or **kwargs for keyword arguments"
      ]
    },
    {
      "cell_type": "markdown",
      "metadata": {
        "id": "78h-bMjdKEbR"
      },
      "source": [
        "### Arbitrary Arguments (*args):\n",
        "```\n",
        "* is used to allow a function to accept an arbitrary number of positional arguments.\n",
        "```\n",
        "\n",
        "Basic Example"
      ]
    },
    {
      "cell_type": "code",
      "execution_count": 35,
      "metadata": {
        "id": "4BxyQWu6KEbR",
        "colab": {
          "base_uri": "https://localhost:8080/"
        },
        "outputId": "fe84f628-ae6b-4dd8-f0c9-76315bc7c7ef"
      },
      "outputs": [
        {
          "output_type": "stream",
          "name": "stdout",
          "text": [
            "Hello, Alice!\n",
            "Hello, Bob!\n",
            "Hello, Charlie!\n"
          ]
        }
      ],
      "source": [
        "def greet(*args):\n",
        "    for name in args:\n",
        "        print(f\"Hello, {name}!\")\n",
        "\n",
        "greet(\"Alice\", \"Bob\", \"Charlie\")\n"
      ]
    },
    {
      "cell_type": "markdown",
      "metadata": {
        "id": "ZBSZHx0EKEbR"
      },
      "source": [
        "#### Understanding the function type()"
      ]
    },
    {
      "cell_type": "code",
      "execution_count": 36,
      "metadata": {
        "id": "5LI4LHYrKEbR",
        "colab": {
          "base_uri": "https://localhost:8080/"
        },
        "outputId": "44696329-7611-4fcf-8a81-a651a120c8ab"
      },
      "outputs": [
        {
          "output_type": "execute_result",
          "data": {
            "text/plain": [
              "int"
            ]
          },
          "metadata": {},
          "execution_count": 36
        }
      ],
      "source": [
        "number = 10\n",
        "type(number)"
      ]
    },
    {
      "cell_type": "markdown",
      "metadata": {
        "id": "71aBabtEKEbR"
      },
      "source": [
        "### Check the data type for the arbitrary argument\n"
      ]
    },
    {
      "cell_type": "markdown",
      "metadata": {
        "id": "TOAY-2QpKEbR"
      },
      "source": [
        "#### <p style=\"font-family: Arial; font-size:1.4em; background-color: yellow; color:black;\"> Problem #5.1 </p>\n",
        "\n",
        "####  Check the printed data type.  \n",
        "####  Type the printed data type in the below\n"
      ]
    },
    {
      "cell_type": "code",
      "execution_count": 37,
      "metadata": {
        "id": "qC_k33vKKEbR",
        "colab": {
          "base_uri": "https://localhost:8080/"
        },
        "outputId": "3427366e-6eef-40d3-f009-046f7375a809"
      },
      "outputs": [
        {
          "output_type": "stream",
          "name": "stdout",
          "text": [
            "<class 'tuple'>\n",
            "(10, 20, 30)\n",
            "10\t20\t30\t"
          ]
        }
      ],
      "source": [
        "def myfunction(*values):\n",
        "    print(type(values))\n",
        "    print (values)\n",
        "    for v in values:\n",
        "        print (v, end='\\t')\n",
        "\n",
        "n1 = 10; n2 = 20; n3=30;\n",
        "myfunction(n1, n2, n3)"
      ]
    },
    {
      "cell_type": "markdown",
      "metadata": {
        "id": "s6pI-O4JKEbR"
      },
      "source": [
        "#### <mark> Type your answer here </mark>\n",
        "- What is the data type of values in the function ?\n",
        "\n",
        "# My answer: The data type of the values in the function are 'tuple' which means that it is basically a list but it cannot be altered later in the code once it has been declared and assigned variable."
      ]
    },
    {
      "cell_type": "markdown",
      "metadata": {
        "id": "Idr5IH3PKEbR"
      },
      "source": [
        "***\n",
        "#### <p style=\"font-family: Arial; font-size:1.4em; background-color: yellow; color:black;\"> Problem #5.2 </p>\n",
        "\n",
        "####  Check the printed data type.  \n",
        "####  Type the printed data type in the below\n"
      ]
    },
    {
      "cell_type": "code",
      "execution_count": 38,
      "metadata": {
        "id": "TlJdlF_8KEbR",
        "outputId": "2edbf0f1-fdf1-4010-8a3b-5221fd1ee185",
        "colab": {
          "base_uri": "https://localhost:8080/"
        }
      },
      "outputs": [
        {
          "output_type": "stream",
          "name": "stdout",
          "text": [
            "<class 'list'> It has been printed in the main()\n",
            "<class 'tuple'> It has been printed in the funtion myfuntion()\n",
            "The value of args is  ([10, 20, 30],)\n",
            "[10, 20, 30]\t \n"
          ]
        }
      ],
      "source": [
        "def myfunction(*args):\n",
        "    print(type(args), 'It has been printed in the funtion myfuntion()') # type the printed data type in the below cell\n",
        "    print ('The value of args is ', args)\n",
        "    for v in args:\n",
        "        print (v, end='\\t')\n",
        "    print(' ')\n",
        "def main():\n",
        "    values = [10, 20, 30]\n",
        "    print (type(values), 'It has been printed in the main()')    # type the printed data type in the below cell\n",
        "    myfunction(values)\n",
        "\n",
        "if __name__ == '__main__':\n",
        "    main()\n"
      ]
    },
    {
      "cell_type": "markdown",
      "metadata": {
        "id": "QuNYCTqtKEbR"
      },
      "source": [
        "#### <mark> Type your answer here </mark>\n",
        "\n",
        "### Are the two printed data types same?\n",
        "\n",
        "- What is the data type printed in main()?\n",
        "- What is the data type printed in myfunction()?\n",
        "- How many elements are there in the tuple \"args\" ?\n",
        "- What is the data type of <mark> element </mark> in the tuple \"args\" ?\n",
        "- How many elements are there in the list \"values\" ?  How many iterations are occured in the for loop of myfuntion()? Why? Explain it.\n",
        "\n",
        "# My answer: The data type printed in main() is a list due to the brackets ([ ]) being used to declare the list. The Data type printed in myfunction() is a tuple which is an immutable list. According to my knowledge, there are 3 elements in the tuple \"args\". 4 if the list itself counts as an element. The data type is 'list' and 'tuple'. There are 3 elements within the values list. There are 3 for loop iterations in myfunction() because there are only 3 elements."
      ]
    },
    {
      "cell_type": "markdown",
      "metadata": {
        "id": "TU2MVZ-uKEbS"
      },
      "source": [
        "***\n",
        "#### <p style=\"font-family: Arial; font-size:1.4em; background-color: yellow; color:black;\"> Problem #5.3 </p>\n",
        "\n",
        "####  Check the printed data type and clarify the difference printed output values between two function calls\n",
        "####  \n"
      ]
    },
    {
      "cell_type": "code",
      "execution_count": 39,
      "metadata": {
        "id": "3zsQKTg2KEbS",
        "outputId": "fbb59c8f-c08d-418c-83c2-f40035fb0441",
        "colab": {
          "base_uri": "https://localhost:8080/"
        }
      },
      "outputs": [
        {
          "output_type": "stream",
          "name": "stdout",
          "text": [
            "<class 'tuple'>\n",
            "([10, 20, 30],)\n",
            "[10, 20, 30]\t\n",
            "<class 'tuple'>\n",
            "(10, 20, 30)\n",
            "10\t20\t30\t\n"
          ]
        }
      ],
      "source": [
        "def myfunction(*values):\n",
        "    print(type(values)) # type the printed data type in the below cell\n",
        "    print (values)\n",
        "    for v in values:\n",
        "        print (v, end='\\t')\n",
        "    print()\n",
        "\n",
        "def main():\n",
        "    values = [10, 20, 30]\n",
        "    myfunction(values)          # It prints (10, 20, 30)    Why ?\n",
        "\n",
        "    val1 = 10 ; val2 = 20; val3 = 30;\n",
        "    myfunction(val1, val2, val3)        # It prints 10 20 30 ; Why?\n",
        "if __name__ == '__main__':\n",
        "    main()\n"
      ]
    },
    {
      "cell_type": "markdown",
      "metadata": {
        "id": "a3EvUiksKEbS"
      },
      "source": [
        "#### <mark> Type your answer here </mark>\n",
        "\n",
        "### Are the two printed data types same?\n",
        "\n",
        "- What is the data type printed in main()?\n",
        "- What is the data type printed in myfunction()?\n",
        "- How many elements are there in the tuple 'values' at each call myfunction() ? How many iterations are occured in the for-loop? why?\n",
        "\n",
        "# The data type printed in main() is a tuple. The data type printed in myfunction() is also a tuple. There are 3 values at each call of myfunction(). There are 3 iterations occuring in the for-loop because args only iterates the amount of times as there are elements within whatever it is looping through."
      ]
    },
    {
      "cell_type": "markdown",
      "metadata": {
        "id": "PflEcSePKEbS"
      },
      "source": [
        "***\n",
        "#### <p style=\"font-family: Arial; font-size:1.4em; background-color: yellow; color:black;\"> Problem #5.4 </p>\n",
        "\n",
        "####  Clarify the differences between two functions \"myfn1\" and \"myfn2\"\n",
        "####  Answer in the below markdown cell.\n"
      ]
    },
    {
      "cell_type": "code",
      "execution_count": 40,
      "metadata": {
        "id": "i-XCu_MKKEbS",
        "colab": {
          "base_uri": "https://localhost:8080/"
        },
        "outputId": "3626ba31-af1f-497f-b622-660d3c4b00e1"
      },
      "outputs": [
        {
          "output_type": "stream",
          "name": "stdout",
          "text": [
            "<class 'tuple'>\n",
            "[10, 20, 30]\t\n",
            "<class 'list'>\n",
            "10\t20\t30\t"
          ]
        }
      ],
      "source": [
        "def myfn1(*values):\n",
        "    print (type(values))\n",
        "    for v in values:\n",
        "        print (v, end='\\t')\n",
        "\n",
        "def myfn2(values):\n",
        "    print (type(values))\n",
        "    for v in values:\n",
        "        print (v, end='\\t')\n",
        "\n",
        "values = [10, 20, 30]\n",
        "myfn1(values)\n",
        "print()\n",
        "myfn2(values)"
      ]
    },
    {
      "cell_type": "markdown",
      "metadata": {
        "id": "sItGQyr4KEbS"
      },
      "source": [
        "#### <mark> Type your answer here </mark>\n",
        "\n",
        "### Are the two printed data types same?\n",
        "\n",
        "- Are the printed values are same? If not, why?\n",
        "***\n",
        "\n",
        "# The two printed data types are not the same because there is an asterik (*) within myfn1() which is args which makes a tuple. The myfn2() lacks an asterik and therefore prints as a list. The printed values are indeed the same because there is no difference in the declaration of the variables. They are consistently 10, 20, 30."
      ]
    },
    {
      "cell_type": "markdown",
      "metadata": {
        "id": "ZrKKYGEYKEbS"
      },
      "source": [
        "## Unpacking Operator:\n",
        "\n",
        "### <mark> * </mark> is used to unpack elements from a list or tuple into separate variables or to pass multiple arguments to a function."
      ]
    },
    {
      "cell_type": "code",
      "execution_count": 41,
      "metadata": {
        "id": "YTi4EzN7KEbS",
        "colab": {
          "base_uri": "https://localhost:8080/"
        },
        "outputId": "84d15456-0178-4192-9d47-8c70c77312d7"
      },
      "outputs": [
        {
          "output_type": "stream",
          "name": "stdout",
          "text": [
            "[10, 20, 30]\n",
            "10 20 30\n"
          ]
        }
      ],
      "source": [
        "# check out the difference between two print statements\n",
        "numbers = [10, 20, 30]\n",
        "print (numbers)\n",
        "print (*numbers)\n"
      ]
    },
    {
      "cell_type": "markdown",
      "metadata": {
        "id": "fawSo1F_KEbS"
      },
      "source": [
        "***\n",
        "#### <p style=\"font-family: Arial; font-size:1.4em; background-color: yellow; color:black;\"> Problem #5.5 </p>\n",
        "\n",
        "####  Clarify the differences of the printed output between two functions \"myfn1\" and \"myfn2\"\n",
        "####  Answer in the below markdown cell.\n"
      ]
    },
    {
      "cell_type": "code",
      "execution_count": 46,
      "metadata": {
        "id": "uEl0haFtKEbS",
        "colab": {
          "base_uri": "https://localhost:8080/"
        },
        "outputId": "c49df0e9-db9f-47c1-c09e-4ba983836e4a"
      },
      "outputs": [
        {
          "output_type": "stream",
          "name": "stdout",
          "text": [
            "10 20 30\n",
            "[10, 20, 30]\n",
            "10 20 30 \n"
          ]
        }
      ],
      "source": [
        "def myfn1(n1, n2, n3):\n",
        "    print (n1, n2, n3)\n",
        "\n",
        "def myfn2(val):\n",
        "    print (val)\n",
        "    for v in val:\n",
        "        print (v, end=' ')\n",
        "    print()\n",
        "\n",
        "numbers = [10, 20, 30]\n",
        "myfn1(*numbers)\n",
        "myfn2(numbers)"
      ]
    },
    {
      "cell_type": "markdown",
      "metadata": {
        "id": "gN_sDvdvKEbS"
      },
      "source": [
        "#### <mark> Type your answer here </mark>\n",
        "\n",
        "### Are the two printed output same?\n",
        "\n",
        "- Are the printed values are same? If not, why?  <br>\n",
        "- Is it possible to call function myfn1() ? Clarify your answer<br>  \n",
        "``` myfn1(numbers) ```\n",
        "- Is it possible to call function myfn2() ? Clarify your answer <br>\n",
        "``` myfn2(*numbers) ```\n",
        "\n",
        "***\n",
        "\n",
        "# The printed values are indeed the same because there is no difference in variable declaration. The variables are consistently 10, 20, 30. No, it is not possible to call myfn1(numbers) (which is void of an asterisk) because then the function lacks the variables n2, and n3 that it is being told to print. With the lack of an asterisk, myfn1() does not store all the values of the list and therefore cannot print what it does not know. It is not possible to call myfn2(*numbers) with an asterisk because it is only meant to take 1 argument whereas if we add an asterisk it attempts to take 3 when it already has 1 (which is the list itself instead of the 3 individual elements within it)."
      ]
    },
    {
      "cell_type": "markdown",
      "metadata": {
        "id": "x5tPtt0uKEbS"
      },
      "source": [
        "***"
      ]
    },
    {
      "cell_type": "markdown",
      "metadata": {
        "id": "13XX60SbKEbS"
      },
      "source": [
        "# Keyword Arguments (**args):\n",
        "```\n",
        "* is used to allow a function to accept an arbitrary number of positional arguments.\n",
        "```\n",
        "\n",
        "Basic Example"
      ]
    },
    {
      "cell_type": "markdown",
      "metadata": {
        "id": "MmZHzRh-KEbS"
      },
      "source": [
        "***\n",
        "#### <p style=\"font-family: Arial; font-size:1.4em; background-color: yellow; color:black;\"> Problem #5.5 </p>\n",
        "\n",
        "####  Run the below code cell  \n",
        "####  Answer in the below markdown cell.\n"
      ]
    },
    {
      "cell_type": "markdown",
      "metadata": {
        "id": "-6AhoTFjKEbS"
      },
      "source": [
        "### **kwargs\n",
        "## Run the following code and learn about the keyword argument"
      ]
    },
    {
      "cell_type": "code",
      "execution_count": 47,
      "metadata": {
        "id": "FDK4blEAKEbS",
        "colab": {
          "base_uri": "https://localhost:8080/"
        },
        "outputId": "b5e1509e-59e2-4251-d28d-b4c2b13118b2"
      },
      "outputs": [
        {
          "output_type": "stream",
          "name": "stdout",
          "text": [
            "<class 'dict'> The type of kwargs\n",
            "True <--- If this is true, kwargs is a dictionary \n",
            "first -> California\n",
            "mid -> Community\n",
            "last -> College\n"
          ]
        }
      ],
      "source": [
        "def myFun(**kwargs):\n",
        "\tprint (type(kwargs), 'The type of kwargs')\n",
        "\tprint (isinstance(kwargs, dict), '<--- If this is true, kwargs is a dictionary ')\n",
        "\tfor key, value in kwargs.items():\n",
        "\t\tprint (\"%s -> %s\" %(key, value))\n",
        "\n",
        "\n",
        "myFun(first ='California', mid ='Community', last='College')\n"
      ]
    },
    {
      "cell_type": "markdown",
      "metadata": {
        "id": "m2d2-r_1KEbS"
      },
      "source": [
        "\n",
        "-  What is the type of \"kwargs\" ? <br>\n",
        "-  Is it true \"isinstance(kwargs, dict) ?  <br>\n",
        "\n",
        "# My answer: The data type of kwargs is a dictionary. Yes, isinstance() is true which means that kwargs is a dictionary."
      ]
    },
    {
      "cell_type": "markdown",
      "metadata": {
        "id": "5x7Wvy7fKEbS"
      },
      "source": [
        "#### <mark> Type your answer here </mark>\n",
        "-\n",
        "-\n",
        "-\n",
        "***"
      ]
    },
    {
      "cell_type": "markdown",
      "metadata": {
        "id": "joKvGY0FKEbS"
      },
      "source": [
        "#### <p style=\"font-family: Arial; font-size:1.4em; background-color: yellow; color:black;\"> Problem #5.6 </p>\n",
        "\n",
        "####  Call the function myFun( ) with the following code\n",
        "``` myFun(mid ='Community', last='College', first ='California') ```\n",
        "\n",
        "#### And explain the output. Was output printed from \"first\" key value or \"mid\" key value?\n"
      ]
    },
    {
      "cell_type": "code",
      "execution_count": 48,
      "metadata": {
        "id": "Cg6929zIKEbS",
        "colab": {
          "base_uri": "https://localhost:8080/"
        },
        "outputId": "ae98d946-714d-4f07-9ffd-058e2461fda5"
      },
      "outputs": [
        {
          "output_type": "stream",
          "name": "stdout",
          "text": [
            "mid -> Community\n",
            "last -> College\n",
            "first -> California\n"
          ]
        }
      ],
      "source": [
        "def myFun(**kwargs):\n",
        "\tfor key, value in kwargs.items():\n",
        "\t\tprint (\"%s -> %s\" %(key, value))\n",
        "\n",
        "myFun(mid = 'Community', last = 'College', first = 'California')\n"
      ]
    },
    {
      "cell_type": "markdown",
      "metadata": {
        "id": "59HcQzWWKEbS"
      },
      "source": [
        "#### <mark> Type your answer here </mark>\n",
        "-\n",
        "-\n",
        "-\n",
        "***\n",
        "\n",
        "# My answer: The output was printed from mid key value first, then the last, then finally first."
      ]
    },
    {
      "cell_type": "markdown",
      "metadata": {
        "id": "TC7ds5_0KEbS"
      },
      "source": [
        "## Call function with the single value and keyword argument\n",
        "```\n",
        "myFun( normalvalue, **keyword_argument)\n",
        "```"
      ]
    },
    {
      "cell_type": "code",
      "execution_count": 49,
      "metadata": {
        "id": "TUfumm4VKEbS",
        "colab": {
          "base_uri": "https://localhost:8080/"
        },
        "outputId": "c171d8a5-b3ff-4ce4-f603-ee4b98965c8d"
      },
      "outputs": [
        {
          "output_type": "stream",
          "name": "stdout",
          "text": [
            "Apple\n",
            "mid -> Pear\n",
            "last -> Orange\n",
            "Apple\n",
            "mid -> Pear\n",
            "last -> Orange\n"
          ]
        }
      ],
      "source": [
        "def myFun(first, **kwargs):\n",
        "\tprint (first)\n",
        "\tfor key, value in kwargs.items():\n",
        "\t\tprint (\"%s -> %s\" %(key, value))\n",
        "\n",
        "# call myfun() with separate key=value pairs\n",
        "myFun('Apple', mid ='Pear', last='Orange')\n",
        "\n",
        "# Or\n",
        "kwargs = {'mid':'Pear', 'last':'Orange'}\n",
        "myFun('Apple',**kwargs)\n",
        "\n"
      ]
    },
    {
      "cell_type": "markdown",
      "metadata": {
        "id": "U0ar6Z9gKEbS"
      },
      "source": [
        "#### <p style=\"font-family: Arial; font-size:1.4em; background-color: yellow; color:black;\"> Problem #5.7 </p>\n",
        "\n",
        "####  Call the function myFun( ) with the following code\n",
        "\n",
        "\t Call 1\n",
        "\tmyFun(\"Java\", \"C++\", \"Python\")\n",
        "\tmyFun(arg2=\"C++\", arg3=\"Python\", arg1=\"Java\")\n",
        "\n",
        "\t Call 2\n",
        "\targs = (\"Java\", \"C++\", \"Python\")\n",
        "\tmyFun(*args)\n",
        "\n",
        "\t Call 3\n",
        "\tkwargs = {\"arg1\" : \"Java\", \"arg2\" : \"C++\", \"arg3\" : \"Python\"}\n",
        "\tmyFun(**kwargs)\n",
        "\n",
        "#### And explain the output. All outputs are same?\n",
        "\n",
        "# My answer: All outputs are the same because the second call will print 'Java C++ Python' due to *args simply printing it's contents and the third call will print 'Java C++ Python' due to the seperate arguments within kwargs already being predetermined and declared."
      ]
    },
    {
      "cell_type": "markdown",
      "metadata": {
        "id": "gqpvXwUzKEbT"
      },
      "source": [
        "## Call function(a, b, c) with\n",
        "- normal value argument: -----   function(arg1, arg2, arg3)\n",
        "- arbitrary argument:-----       function(*args)\n",
        "- keyword argument:-----         function(**kargs)\n",
        "```\n",
        "def myFun( a, b, c):\n",
        "```"
      ]
    },
    {
      "cell_type": "code",
      "execution_count": 50,
      "metadata": {
        "id": "VjwfdJ2mKEbT",
        "colab": {
          "base_uri": "https://localhost:8080/"
        },
        "outputId": "4b334711-4f94-46bc-ed2b-b54926fc8449"
      },
      "outputs": [
        {
          "output_type": "stream",
          "name": "stdout",
          "text": [
            "arg1: Java\targ2: C++\targ3: Python\n",
            "arg1: Java\targ2: C++\targ3: Python\n",
            "arg1: Java\targ2: C++\targ3: Python\n",
            "arg1: Java\targ2: C++\targ3: Python\n"
          ]
        }
      ],
      "source": [
        "def myFun(arg1, arg2, arg3):\n",
        "\tprint(\"arg1:\", arg1, end='\\t')\n",
        "\tprint(\"arg2:\", arg2, end='\\t')\n",
        "\tprint(\"arg3:\", arg3, end='\\n')\n",
        "\n",
        "def main():\n",
        "\t# Call 1\n",
        "\tmyFun(\"Java\", \"C++\", \"Python\")\n",
        "\tmyFun(arg2=\"C++\", arg3=\"Python\", arg1=\"Java\")\n",
        "\n",
        "\t# Call 2\n",
        "\targs = (\"Java\", \"C++\", \"Python\")\n",
        "\tmyFun(*args)\n",
        "\t# Call 3\n",
        "\tkwargs = {\"arg1\" : \"Java\", \"arg2\" : \"C++\", \"arg3\" : \"Python\"}\n",
        "\tmyFun(**kwargs)\n",
        "\n",
        "\n",
        "if __name__ == '__main__':\n",
        "    main()\n"
      ]
    },
    {
      "cell_type": "markdown",
      "metadata": {
        "id": "VhJqXojUKEbT"
      },
      "source": [
        "#### <mark> Type your answer here </mark>\n",
        "\n",
        "### All the output are same? Why? Explain it.\n",
        "-\n",
        "-\n",
        "-\n",
        "\n",
        "***\n",
        "\n",
        "# All outputs are the same due to there being no difference in delcaration of the print statement however the arguments are printed many times due to each function call printing once."
      ]
    },
    {
      "cell_type": "markdown",
      "metadata": {
        "id": "jKKc88COKEbT"
      },
      "source": [
        "## Other useful expressions with arbitarary argument\n",
        "\n",
        "#### Run the followig code cells and learn the arbitrary argument"
      ]
    },
    {
      "cell_type": "markdown",
      "metadata": {
        "id": "hSL83ByiKEbT"
      },
      "source": [
        "<style>\n",
        "\tp {\n",
        "\t\t--background-color: grey;\n",
        "\t\tcolor: white;\n",
        "\t\tborder: 3px solid grey\n",
        "\n",
        "\t}\n",
        "</style>\n",
        "\n",
        "<p> Using the arbitrary arguments to save the returned value</p>\n",
        "\n"
      ]
    },
    {
      "cell_type": "code",
      "execution_count": 51,
      "metadata": {
        "id": "HSix2kNzKEbT",
        "colab": {
          "base_uri": "https://localhost:8080/"
        },
        "outputId": "88d45c9b-d907-4916-e33f-8db1b3011408"
      },
      "outputs": [
        {
          "output_type": "stream",
          "name": "stdout",
          "text": [
            "2\n",
            "6\n",
            "[4]\n"
          ]
        }
      ],
      "source": [
        "def retEven(lst):\n",
        "\tevenlst = []\n",
        "\tfor v in lst:\n",
        "\t\tif v % 2 == 0:\n",
        "\t\t\tevenlst.append(v)\n",
        "\treturn evenlst\n",
        "\n",
        "lst = [1,2,3,4,5,6]\n",
        "first, *others, last = retEven(lst)\n",
        "print (first)\n",
        "print (last)\n",
        "print (others)\n"
      ]
    },
    {
      "cell_type": "markdown",
      "metadata": {
        "id": "ih6uhE09KEbT"
      },
      "source": [
        "<style>\n",
        "\th1 {\n",
        "\t\tbackground-color: grey;\n",
        "\t\tcolor: Yellow;\n",
        "\t\tborder: 3px solid grey;\n",
        "\t\t-- font-size: xx-large;\n",
        "\t}\n",
        "\tp {\n",
        "\t\tbackground-color: grey;\n",
        "\t\tcolor: white;\n",
        "\t\tborder: 3px solid grey;\n",
        "\t\tfont-size: xx-large\n",
        "\t}\n",
        "</style>\n",
        "<p> Example: *args </p>\n"
      ]
    },
    {
      "cell_type": "code",
      "execution_count": 52,
      "metadata": {
        "id": "6IOfpeKVKEbT",
        "outputId": "2ab2be52-9293-492d-954e-648f95ce725e",
        "colab": {
          "base_uri": "https://localhost:8080/"
        }
      },
      "outputs": [
        {
          "output_type": "stream",
          "name": "stdout",
          "text": [
            "('Python Programming',)\n",
            "The value v is  Python Programming \tThe type of v is  <class 'str'>\n",
            "\n",
            "([1, 2, 3, 4, 5],)\n",
            "The value v is  [1, 2, 3, 4, 5] \tThe type of v is  <class 'list'>\n",
            "\n",
            "(1, 2, 3, 4, 5)\n",
            "The value v is  1 \tThe type of v is  <class 'int'>\n",
            "The value v is  2 \tThe type of v is  <class 'int'>\n",
            "The value v is  3 \tThe type of v is  <class 'int'>\n",
            "The value v is  4 \tThe type of v is  <class 'int'>\n",
            "The value v is  5 \tThe type of v is  <class 'int'>\n",
            "\n"
          ]
        }
      ],
      "source": [
        "\n",
        "def printstring(*string):\n",
        "\tprint (string)\n",
        "\tfor v in string:\n",
        "\t\tprint ('The value v is ', v, '\\tThe type of v is ', type(v) )\n",
        "\n",
        "\tprint ()\n",
        "\n",
        "stringvalue = \"Python Programming\"\n",
        "printstring(stringvalue)\n",
        "\n",
        "integerlist = [1,2,3,4,5]\n",
        "printstring(integerlist)\n",
        "\n",
        "printstring(1,2,3,4,5)"
      ]
    },
    {
      "cell_type": "markdown",
      "metadata": {
        "id": "sTuvoNS7KEbT"
      },
      "source": [
        "## Please <font color='red'> **\"commit\"** </font> your work or <font color='red'> **\"save\"** </font> in Google Colab\n",
        "## before moving to the next section."
      ]
    },
    {
      "cell_type": "markdown",
      "metadata": {
        "id": "H7LvZFAHKEbT"
      },
      "source": [
        "***\n",
        "# <p style=\"background-color: grey; color: white \"> ◼️  Section 6 </p>\n",
        "# <p style=\"font-family: Arial; font-size:1.4em;color:red;\"> 6. Yield </p>\n"
      ]
    },
    {
      "cell_type": "markdown",
      "metadata": {
        "id": "FE_Mr9gtKEbT"
      },
      "source": [
        "<style>\n",
        "\th1 {\n",
        "\t\tbackground-color: grey;\n",
        "\t\tcolor: Yellow;\n",
        "\t\tborder: 3px solid grey;\n",
        "\t\t-- font-size: xx-large;\n",
        "\t}\n",
        "\tp {\n",
        "\t\tbackground-color: grey;\n",
        "\t\tcolor: white;\n",
        "\t\tborder: 3px solid grey;\n",
        "\t}\n",
        "</style>\n",
        "<h1 font-size:40px> 6.1 iterator </h1>\n",
        "\n"
      ]
    },
    {
      "cell_type": "markdown",
      "metadata": {
        "id": "XmSr6HTHKEbT"
      },
      "source": [
        "## Understanding Iterator\n",
        "\n",
        "#### Run the following code cells and learn the Iterator concept"
      ]
    },
    {
      "cell_type": "markdown",
      "metadata": {
        "id": "eYd4a0pTKEbT"
      },
      "source": [
        "<style>\n",
        "\th3 {\n",
        "\t\tbackground-color: black;\n",
        "\t\tcolor: white;\n",
        "\t\tborder: 1px solid grey;\n",
        "\t\tfont-size: 30px;\n",
        "\t}\n",
        "\tp {\n",
        "\t\tbackground-color: #336666;\n",
        "\t\tcolor: white;\n",
        "\t\tborder: 1px solid grey;\n",
        "\t\tfont-size: 24;\n",
        "\t}\n",
        "</style>\n",
        "\n",
        "<h3> Iterator </h3>\n",
        "<p>\n",
        "\n",
        "An iterator in Python is an object that enables you to traverse through a collection of elements, such as a list, tuple, or dictionary, one element at a time. It implements two main methods:\n",
        "```\n",
        "__iter__(): Returns the iterator object itself. This is required for an object to be an iterator.\n",
        "__next__(): Returns the next item from the collection. When there are no more items, it raises a StopIteration exception.\n",
        "```\n",
        "</p>"
      ]
    },
    {
      "cell_type": "markdown",
      "metadata": {
        "id": "ddz3ZslpKEbT"
      },
      "source": [
        "#### <p style=\"font-family: Arial; font-size:1.4em; background-color: yellow; color:black;\"> Problem #6.1 </p>\n",
        "\n",
        "<style>\n",
        "\tp {\n",
        "\t\tbackground-color: black;\n",
        "\t\tcolor: white;\n",
        "\t\tborder: 1px solid grey;\n",
        "\t\tfont-size: 30px;\n",
        "\t}\n",
        "</style>\n",
        "<p> Run the following code cells and answer the questions </p>  \n"
      ]
    },
    {
      "cell_type": "markdown",
      "metadata": {
        "id": "e3QBL5iNKEbT"
      },
      "source": [
        "#### What is the type of \"myiter\"?\n",
        "- Your answer: The data type of myiter is a list_iterator."
      ]
    },
    {
      "cell_type": "code",
      "execution_count": 53,
      "metadata": {
        "id": "m6UC8HUxKEbT",
        "colab": {
          "base_uri": "https://localhost:8080/"
        },
        "outputId": "9f38eb8b-2519-4ef6-f118-fffb32530777"
      },
      "outputs": [
        {
          "output_type": "execute_result",
          "data": {
            "text/plain": [
              "list_iterator"
            ]
          },
          "metadata": {},
          "execution_count": 53
        }
      ],
      "source": [
        "mylst = [10, 20, 30]\n",
        "myiter = iter(mylst)\n",
        "\n",
        "type(myiter)"
      ]
    },
    {
      "cell_type": "markdown",
      "metadata": {
        "id": "JtxO8qk0KEbT"
      },
      "source": [
        "#### What is the result of the following code?\n",
        "``` myiter.__next__() ```\n",
        "- Your answer: The result of the following code is 10."
      ]
    },
    {
      "cell_type": "code",
      "execution_count": 54,
      "metadata": {
        "id": "SwuHupaBKEbT",
        "colab": {
          "base_uri": "https://localhost:8080/"
        },
        "outputId": "17f955cb-3a09-4b85-b594-a34d8fede129"
      },
      "outputs": [
        {
          "output_type": "execute_result",
          "data": {
            "text/plain": [
              "10"
            ]
          },
          "metadata": {},
          "execution_count": 54
        }
      ],
      "source": [
        "myiter.__next__()"
      ]
    },
    {
      "cell_type": "markdown",
      "metadata": {
        "id": "wfxRLPBMKEbT"
      },
      "source": [
        "#### What is the result of the following code?\n",
        "```\n",
        "    myiter.__next__()  \n",
        "    myiter.__next__()\n",
        "```\n",
        "- Your answer: The result of the following code is 20, 30."
      ]
    },
    {
      "cell_type": "code",
      "execution_count": 55,
      "metadata": {
        "id": "gwqU5X0dKEbT",
        "colab": {
          "base_uri": "https://localhost:8080/"
        },
        "outputId": "a886b517-6def-479a-9547-982e6daeb567"
      },
      "outputs": [
        {
          "output_type": "stream",
          "name": "stdout",
          "text": [
            "20\n",
            "30\n"
          ]
        }
      ],
      "source": [
        "print (myiter.__next__())\n",
        "print (myiter.__next__())"
      ]
    },
    {
      "cell_type": "markdown",
      "metadata": {
        "id": "NpZMjZnnKEbT"
      },
      "source": [
        "#### If you run this code one more, you will see error. Show the error message. Why does it cause an error?\n",
        "```\n",
        "    myiter.__next__()  \n",
        "```\n",
        "- Your answer: There is nothing left after 30 to print."
      ]
    },
    {
      "cell_type": "code",
      "execution_count": 56,
      "metadata": {
        "id": "EjQqXCADKEbT",
        "colab": {
          "base_uri": "https://localhost:8080/",
          "height": 141
        },
        "outputId": "23ead8e6-58f7-422a-8e6c-430ceb0dea7f"
      },
      "outputs": [
        {
          "output_type": "error",
          "ename": "StopIteration",
          "evalue": "",
          "traceback": [
            "\u001b[0;31m---------------------------------------------------------------------------\u001b[0m",
            "\u001b[0;31mStopIteration\u001b[0m                             Traceback (most recent call last)",
            "\u001b[0;32m<ipython-input-56-279da4cfd673>\u001b[0m in \u001b[0;36m<cell line: 0>\u001b[0;34m()\u001b[0m\n\u001b[0;32m----> 1\u001b[0;31m \u001b[0mprint\u001b[0m \u001b[0;34m(\u001b[0m\u001b[0mmyiter\u001b[0m\u001b[0;34m.\u001b[0m\u001b[0m__next__\u001b[0m\u001b[0;34m(\u001b[0m\u001b[0;34m)\u001b[0m\u001b[0;34m)\u001b[0m\u001b[0;34m\u001b[0m\u001b[0;34m\u001b[0m\u001b[0m\n\u001b[0m",
            "\u001b[0;31mStopIteration\u001b[0m: "
          ]
        }
      ],
      "source": [
        "print (myiter.__next__())"
      ]
    },
    {
      "cell_type": "markdown",
      "metadata": {
        "id": "SShBw001KEbU"
      },
      "source": [
        "#### next() function is the same as ``` __next__() ```\n",
        "```\n",
        "    iter_obj = iter(mylst)\n",
        "    next(iter_obj)\n",
        "```"
      ]
    },
    {
      "cell_type": "code",
      "execution_count": 57,
      "metadata": {
        "id": "fz7dKrW3KEbU",
        "colab": {
          "base_uri": "https://localhost:8080/"
        },
        "outputId": "9b0b1456-00b6-4225-ed7e-abcb8707453e"
      },
      "outputs": [
        {
          "output_type": "stream",
          "name": "stdout",
          "text": [
            "1\n",
            "2\n",
            "3\n"
          ]
        }
      ],
      "source": [
        "mylst = [1,2,3]\n",
        "itobj= iter(mylst)\n",
        "print (next(itobj))\n",
        "print (next(itobj))\n",
        "print (next(itobj))"
      ]
    },
    {
      "cell_type": "markdown",
      "metadata": {
        "id": "KCS-hnpMKEbU"
      },
      "source": [
        "***\n",
        "#### <p style=\"font-family: Arial; font-size:1.4em; background-color: yellow; color:black;\"> Problem #6.2: Loop Structures with Iterator </p>\n",
        "\n",
        "<style>\n",
        "\tp {\n",
        "\t\tbackground-color: black;\n",
        "\t\tcolor: white;\n",
        "\t\tborder: 1px solid grey;\n",
        "\t\tfont-size: 30px;\n",
        "\t}\n",
        "</style>\n",
        "<p> Run the following code cells and answer the questions </p>  \n"
      ]
    },
    {
      "cell_type": "markdown",
      "metadata": {
        "id": "wt5jDjgIKEbU"
      },
      "source": [
        "#### Compare two loop structures with iterator, for loop and while loop."
      ]
    },
    {
      "cell_type": "markdown",
      "metadata": {
        "id": "1vmdD4CzKEbU"
      },
      "source": [
        "<style>\n",
        "\th5 {\n",
        "\t\tbackground-color: black;\n",
        "\t\tcolor: white;\n",
        "\t\tborder: 1px solid grey;\n",
        "\t\tfont-size: 30px;\n",
        "\t}\n",
        "\tp {\n",
        "\t\tbackground-color: #336666;\n",
        "\t\tcolor: white;\n",
        "\t\tborder: 1px solid grey;\n",
        "\t\tfont-size: 24;\n",
        "\t}\n",
        "</style>\n",
        "##### for loop\n",
        "<p>\n",
        "Using Iterators in Loops <br>\n",
        "Most commonly, you use iterators in a for loop, which automatically handles the StopIteration exception:\n",
        "</p>"
      ]
    },
    {
      "cell_type": "code",
      "execution_count": 58,
      "metadata": {
        "id": "aCvuB53uKEbU",
        "outputId": "0e3f484d-5c9a-4fc1-a543-ffe89e1e34eb",
        "colab": {
          "base_uri": "https://localhost:8080/"
        }
      },
      "outputs": [
        {
          "output_type": "stream",
          "name": "stdout",
          "text": [
            "10\t20\t30\t"
          ]
        }
      ],
      "source": [
        "mylst = [10, 20 , 30]\n",
        "myiter = iter(mylst)\n",
        "for v in myiter:\n",
        "    print (v, end='\\t')"
      ]
    },
    {
      "cell_type": "markdown",
      "metadata": {
        "id": "QGSArhdiKEbU"
      },
      "source": [
        "<style>\n",
        "\th5 {\n",
        "\t\tbackground-color: black;\n",
        "\t\tcolor: white;\n",
        "\t\tborder: 1px solid grey;\n",
        "\t\tfont-size: 30px;\n",
        "\t}\n",
        "\tp {\n",
        "\t\tbackground-color: #336666;\n",
        "\t\tcolor: white;\n",
        "\t\tborder: 1px solid grey;\n",
        "\t\tfont-size: 24;\n",
        "\t}\n",
        "</style>\n",
        "##### while loop"
      ]
    },
    {
      "cell_type": "code",
      "execution_count": 59,
      "metadata": {
        "id": "MzuAYNg1KEbU",
        "outputId": "5eeb6999-dcb4-4ba6-9afa-66cc15f5cfd7",
        "colab": {
          "base_uri": "https://localhost:8080/"
        }
      },
      "outputs": [
        {
          "output_type": "stream",
          "name": "stdout",
          "text": [
            "10\t20\t30\t"
          ]
        }
      ],
      "source": [
        "mylst = [10, 20, 30]\n",
        "iter_obj = iter(mylst)\n",
        "while True:\n",
        "    try:\n",
        "        print (next(iter_obj), end= '\\t')\n",
        "    except StopIteration:\n",
        "        break\n"
      ]
    },
    {
      "cell_type": "markdown",
      "metadata": {
        "id": "vG8RyKPGKEbU"
      },
      "source": [
        "### Compare two loop structures. What is the difference between two loops to use the iterator for traversing all the elements in the list?\n",
        "#### Your Answer: The difference is that within the for-loop the iter does not need to be within the print statement or within parenthesis as opposed to the while-loop."
      ]
    },
    {
      "cell_type": "markdown",
      "metadata": {
        "id": "jJ6jfcphKEbU"
      },
      "source": [
        "***"
      ]
    },
    {
      "cell_type": "markdown",
      "metadata": {
        "id": "_2Ssvjv6KEbU"
      },
      "source": [
        "<style>\n",
        "\th1 {\n",
        "\t\tbackground-color: grey;\n",
        "\t\tcolor: Yellow;\n",
        "\t\tborder: 3px solid grey;\n",
        "\t\tfont-size: xx-large;\n",
        "\t}\n",
        "\tp {\n",
        "\t\tbackground-color: grey;\n",
        "\t\tcolor: white;\n",
        "\t\tfont-size: 24px;\n",
        "\t\tborder: 3px solid grey;\n",
        "\t}\n",
        "</style>\n",
        "# <h1 font-size:40px> 6.2 Generator </h1>\n",
        "\n",
        "\n",
        "## Concepts of Generator\n",
        "<p>\n",
        "A generator in Python is a special type of iterator that allows you to iterate over a sequence of values lazily, meaning it generates values on the fly and only when needed. <br> This makes generators memory-efficient, especially when dealing with large datasets, because they do not require all the values to be stored in memory at once.\n",
        "</p>"
      ]
    },
    {
      "cell_type": "markdown",
      "metadata": {
        "id": "-6knxdj5KEbU"
      },
      "source": [
        "***\n",
        "#### <p style=\"font-family: Arial; font-size:1.4em; background-color: yellow; color:black;\"> Problem #6.3 </p>\n",
        "\n",
        "<style>\n",
        "\tp {\n",
        "\t\tbackground-color: black;\n",
        "\t\tcolor: white;\n",
        "\t\tborder: 1px solid grey;\n",
        "\t\tfont-size: 30px;\n",
        "\t}\n",
        "</style>\n",
        "<p> Run the following code cells and answer the questions </p>  \n"
      ]
    },
    {
      "cell_type": "markdown",
      "metadata": {
        "id": "SgpO2UyDKEbU"
      },
      "source": [
        "#### Run this code and check out the output. Show the type of \"gen\"\n",
        "```\n",
        "def mygen():\n",
        "    yield 1\n",
        "\n",
        "gen = mygen()\n",
        "print (type(gen))\n",
        "```\n",
        "##### Your answer: The output is <class 'generator'>.\n",
        "\n",
        "\n",
        "***"
      ]
    },
    {
      "cell_type": "markdown",
      "metadata": {
        "id": "DpzzqM3nKEbU"
      },
      "source": [
        "#### Run this code and check out the output. What are the value from \"next(gen)\"?\n",
        "```\n",
        "def mygen():\n",
        "    yield 10\n",
        "    yield 20\n",
        "    yield 30\n",
        "\n",
        "gen = mygen()\n",
        "print (next(gen))\n",
        "print (next(gen))\n",
        "print (next(gen))\n",
        "```\n",
        "##### Your answer: The values from \"next(gen)\" are 10, 20, 30.\n",
        "\n",
        "\n",
        "***"
      ]
    },
    {
      "cell_type": "markdown",
      "metadata": {
        "id": "GVTdTUIcKEbU"
      },
      "source": [
        "#### Run this code and check out the output. What are the value from \"next(gen)\"?\n",
        "```\n",
        "def mygen():\n",
        "    yield 10\n",
        "    yield 20\n",
        "    yield 30\n",
        "\n",
        "gen = mygen()\n",
        "for v in gen:\n",
        "    print (v, end='\\t')\n",
        "```\n",
        "##### Your answer: The output is 10   20    30. The same output but with tabs in between the variables.\n",
        "\n",
        "\n",
        "***"
      ]
    },
    {
      "cell_type": "markdown",
      "metadata": {
        "id": "Qod_TC2xKEbU"
      },
      "source": [
        "#### Run this code and check out the output. What is the value of the last next(gen) ?\n",
        "```\n",
        "def mygen():\n",
        "    yield 10\n",
        "    yield 20\n",
        "    yield 30\n",
        "\n",
        "gen = mygen()\n",
        "while True:\n",
        "    try:\n",
        "        print (next(gen))\n",
        "    except StopIteration:\n",
        "        break\n",
        "```\n",
        "##### Your answer: The output is:\n",
        "# 10\n",
        "# 20\n",
        "# 30\n",
        "\n",
        "\n",
        "***"
      ]
    },
    {
      "cell_type": "markdown",
      "metadata": {
        "id": "h55vrLkyKEbU"
      },
      "source": [
        "<style>\n",
        "\th1 {\n",
        "\t\tbackground-color: grey;\n",
        "\t\tcolor: Yellow;\n",
        "\t\tborder: 3px solid grey;\n",
        "\t\tfont-size: xx-large;\n",
        "\t}\n",
        "\tp {\n",
        "\t\tbackground-color: grey;\n",
        "\t\tcolor: white;\n",
        "\t\tfont-size: 24px;\n",
        "\t\tborder: 3px solid grey;\n",
        "\t}\n",
        "</style>\n",
        "# <h1 font-size:40px> 6.3 yield </h1>\n",
        "\n",
        "\n",
        "## yield statement\n",
        "<p>\n",
        "yield is a keyword used in a function to turn it into a generator. When a function contains a yield statement, it does not execute like a normal function. Instead, it returns a generator object that can be iterated over.\n",
        "</p>"
      ]
    },
    {
      "cell_type": "markdown",
      "metadata": {
        "id": "T06x2IGwKEbU"
      },
      "source": [
        "***\n",
        "#### <p style=\"font-family: Arial; font-size:1.4em; background-color: yellow; color:black;\"> Problem #6.4 </p>\n",
        "\n",
        "<style>\n",
        "\tp {\n",
        "\t\tbackground-color: black;\n",
        "\t\tcolor: white;\n",
        "\t\tborder: 1px solid grey;\n",
        "\t\tfont-size: 30px;\n",
        "\t}\n",
        "</style>\n",
        "<p> Run the following code cells and answer the questions </p>  \n"
      ]
    },
    {
      "cell_type": "markdown",
      "metadata": {
        "id": "fMMP2HKCKEbU"
      },
      "source": [
        "<style>\n",
        "\tp {\n",
        "\t\t--background-color: grey;\n",
        "\t\tcolor: white;\n",
        "\t\tborder: 3px solid grey\n",
        "\n",
        "\t}\n",
        "</style>\n",
        "\n",
        "<p> Example of yield statement </p>\n",
        "<p> Make a function to return the even number in the list </p>\n",
        "\n"
      ]
    },
    {
      "cell_type": "code",
      "execution_count": 60,
      "metadata": {
        "id": "68dwaYahKEbU",
        "colab": {
          "base_uri": "https://localhost:8080/"
        },
        "outputId": "1690f612-d2bc-45d4-fd64-7493167e83e4"
      },
      "outputs": [
        {
          "output_type": "stream",
          "name": "stdout",
          "text": [
            "0 --\n",
            "2\n",
            "4\n",
            "6\n",
            "8\n"
          ]
        }
      ],
      "source": [
        "def findEvenNumber(lst):\n",
        "\tfor v in lst:\n",
        "\t\tif ( v % 2 == 0):\n",
        "\t\t\tyield v\n",
        "\n",
        "def main():\n",
        "\tmygen = findEvenNumber(range(10))\n",
        "\tval = next(mygen)\n",
        "\tprint (val, '--')\n",
        "\tfor val in mygen:\n",
        "\t\tprint (val)\n",
        "\n",
        "if __name__ == '__main__':\n",
        "\tmain()"
      ]
    },
    {
      "cell_type": "markdown",
      "metadata": {
        "id": "A-eONxD4KEbU"
      },
      "source": [
        "<style>\n",
        "\tp {\n",
        "\t\t--background-color: grey;\n",
        "\t\tcolor: white;\n",
        "\t\tborder: 3px solid grey\n",
        "\n",
        "\t}\n",
        "</style>\n",
        "\n",
        "<p> Make a function to return the generator for the Fibonacci number </p>\n",
        "\n"
      ]
    },
    {
      "cell_type": "code",
      "execution_count": 61,
      "metadata": {
        "id": "28eD2dOdKEbU",
        "colab": {
          "base_uri": "https://localhost:8080/"
        },
        "outputId": "3217c05f-9ef7-4980-d691-279608102848"
      },
      "outputs": [
        {
          "output_type": "stream",
          "name": "stdout",
          "text": [
            "0\n",
            "1\n"
          ]
        }
      ],
      "source": [
        "\n",
        "def fibo(N):\n",
        "\tn1, n2 = 0, 1\n",
        "\ti = 0\n",
        "\twhile ( i <= N):\n",
        "\t\tyield n1\n",
        "\t\tn3 = n1 + n2\n",
        "\t\tn1 = n2\n",
        "\t\tn2 = n3\n",
        "\t\ti += 1\n",
        "\n",
        "gen = fibo(1)\n",
        "for v in gen:\n",
        "\tprint (v)\n"
      ]
    },
    {
      "cell_type": "markdown",
      "metadata": {
        "id": "qRe2eC93KEbU"
      },
      "source": [
        "<style>\n",
        "\th1 {\n",
        "\t\tbackground-color: grey;\n",
        "\t\tcolor: Yellow;\n",
        "\t\tborder: 3px solid grey;\n",
        "\t\t-- font-size: xx-large;\n",
        "\t}\n",
        "\tp {\n",
        "\t\tbackground-color: grey;\n",
        "\t\tcolor: white;\n",
        "\t\tborder: 3px solid grey;\n",
        "\t\tfont-size: xx-large\n",
        "\t}\n",
        "</style>\n",
        "<p> Example: yield </p>\n"
      ]
    },
    {
      "cell_type": "code",
      "execution_count": 62,
      "metadata": {
        "id": "KSNnl5S3KEbV",
        "colab": {
          "base_uri": "https://localhost:8080/"
        },
        "outputId": "752918c5-3e01-4057-f08f-c5e4988bca86"
      },
      "outputs": [
        {
          "output_type": "stream",
          "name": "stdout",
          "text": [
            "P, y, t, h, n,  , P, r, g, r, m, m, n, g, "
          ]
        }
      ],
      "source": [
        "\n",
        "def consonant(string):\n",
        "\tvowels = ['a', 'e', 'i','o', 'u']\n",
        "\tfor v in string:\n",
        "\t\tif v not in vowels:\n",
        "\t\t\tyield v\n",
        "\n",
        "\n",
        "strval = 'Python Programming'\n",
        "for v in consonant(strval):\n",
        "\tprint (v, end=', ' )"
      ]
    },
    {
      "cell_type": "markdown",
      "metadata": {
        "id": "Kgtlc7kWKEbV"
      },
      "source": [
        "<style>\n",
        "\tp {\n",
        "\t\tbackground-color: black;\n",
        "\t\tcolor: white;\n",
        "\t\tborder: 1px solid grey;\n",
        "\t\tfont-size: 30px;\n",
        "\t}\n",
        "</style>\n",
        "#### <p style=\"font-family: Arial; font-size:1.4em; background-color: yellow; color:black;\"> Problem #6.5 </p>\n",
        "\n",
        "<p> Make a function to return the generator containing the first half of the list\n"
      ]
    },
    {
      "cell_type": "code",
      "execution_count": 74,
      "metadata": {
        "id": "UzfDa5WOKEbV",
        "colab": {
          "base_uri": "https://localhost:8080/"
        },
        "outputId": "5aa2c305-be65-4f1f-e3e3-ba74f3744ab5"
      },
      "outputs": [
        {
          "output_type": "stream",
          "name": "stdout",
          "text": [
            "1\t2\t3\t4\t5\t"
          ]
        }
      ],
      "source": [
        "def halfoflist(mylst):\n",
        "    half = len(mylst) // 2\n",
        "    for v in range(half):\n",
        "        yield mylst[v]\n",
        "    return mylst\n",
        "    # return the generator that contains the first half of the list\n",
        "\n",
        "def main():\n",
        "    numbers = [1,2,3,4,5,6,7,8,9,10]\n",
        "    mygen = halfoflist(numbers)\n",
        "\n",
        "    for v in mygen:\n",
        "        print (v, end ='\\t')\n",
        "\n",
        "if __name__ == '__main__':\n",
        "    main()\n"
      ]
    },
    {
      "cell_type": "markdown",
      "metadata": {
        "id": "bd5JGuaUKEbV"
      },
      "source": [
        "***\n",
        "#### <p style=\"font-family: Arial; font-size:1.4em; background-color: yellow; color:black;\"> Problem #6.6 </p>\n",
        "\n",
        "<style>\n",
        "\tp {\n",
        "\t\tbackground-color: black;\n",
        "\t\tcolor: white;\n",
        "\t\tborder: 1px solid grey;\n",
        "\t\tfont-size: 30px;\n",
        "\t}\n",
        "</style>\n",
        "<p> Make a function that returns the generator containing elements greater than their immediate left. </p>\n",
        "- Example numbers = [1, 3, 2, 4, 5, 0] <br>\n",
        "- Generator for [3,4,5]\n"
      ]
    },
    {
      "cell_type": "code",
      "execution_count": 85,
      "metadata": {
        "id": "w2tTyloDKEbV",
        "colab": {
          "base_uri": "https://localhost:8080/"
        },
        "outputId": "04c20275-8de7-45ba-f45b-cebcf57a6d0f"
      },
      "outputs": [
        {
          "output_type": "stream",
          "name": "stdout",
          "text": [
            "[1, 3, 4, 5]\n"
          ]
        }
      ],
      "source": [
        "def genleft(mylst):\n",
        "  itr = iter(mylst)\n",
        "  ileft = 0\n",
        "  for v in itr:\n",
        "    if v > ileft:\n",
        "      yield v\n",
        "    ileft = v\n",
        "\n",
        "\n",
        "def main():\n",
        "  numbers = [1, 3, 2, 4, 5, 0]\n",
        "  mygen = genleft(numbers)\n",
        "\n",
        "  final = list(mygen)\n",
        "  print(final)\n",
        "\n",
        "if __name__ == '__main__':\n",
        "  main()"
      ]
    },
    {
      "cell_type": "markdown",
      "metadata": {
        "id": "pm2-bTwZKEbV"
      },
      "source": [
        "<style>\n",
        "\th1 {\n",
        "\t\tbackground-color: grey;\n",
        "\t\tcolor: Yellow;\n",
        "\t\tborder: 3px solid grey;\n",
        "\t\tfont-size: 60px;\n",
        "\t}\n",
        "\tp {\n",
        "\t\tbackground-color: grey;\n",
        "\t\tcolor: white;\n",
        "\t\tfont-size: 20px;\n",
        "\t\tborder: 3px solid grey;\n",
        "\t}\n",
        "</style>\n",
        "# <h1 font-size:60px> 6.4 lambda </h1>\n",
        "\n",
        "\n",
        "## Lambda Function\n",
        "<p>\n",
        "A lambda function in Python is a small, anonymous function defined with the lambda keyword. Unlike a regular function that is defined using the def keyword, a lambda function can have any number of arguments but only one expression. The result of that expression is implicitly returned.\n",
        "</p>\n",
        "\n",
        "Syntax <br>\n",
        "<code>\n",
        "lambda arguments: expression <br>\n",
        "\n",
        "Code Example: <br>\n",
        "<code>\n",
        "add_ten = lambda x: x + 10 <br>\n",
        "print(add_ten(5))  # Output: 15\n"
      ]
    },
    {
      "cell_type": "markdown",
      "metadata": {
        "id": "Z0LrvlnZKEbV"
      },
      "source": [
        "***\n",
        "<style>\n",
        "\tp {\n",
        "\t\tbackground-color: black;\n",
        "\t\tcolor: white;\n",
        "\t\tborder: 1px solid grey;\n",
        "\t\tfont-size: 30px;\n",
        "\t}\n",
        "</style>\n",
        "<p> Run the following code cells and check out the results </p>  \n"
      ]
    },
    {
      "cell_type": "markdown",
      "metadata": {
        "id": "gYP3Ciy_KEbV"
      },
      "source": [
        "#### Lambda Function Example: Add 10"
      ]
    },
    {
      "cell_type": "code",
      "execution_count": 86,
      "metadata": {
        "id": "X0rDarE2KEbV",
        "outputId": "1d9b0865-a645-42b3-ce50-5b3321d2a195",
        "colab": {
          "base_uri": "https://localhost:8080/"
        }
      },
      "outputs": [
        {
          "output_type": "stream",
          "name": "stdout",
          "text": [
            "30\n"
          ]
        }
      ],
      "source": [
        "\n",
        "lfn = lambda x : x + 10\n",
        "\n",
        "a = lfn(20)\n",
        "print (a)"
      ]
    },
    {
      "cell_type": "markdown",
      "metadata": {
        "id": "Jx8BRPt3KEbV"
      },
      "source": [
        "### Lambda that returns x squared"
      ]
    },
    {
      "cell_type": "code",
      "execution_count": 87,
      "metadata": {
        "id": "P9OzL1kwKEbV",
        "colab": {
          "base_uri": "https://localhost:8080/"
        },
        "outputId": "630df0a1-5445-47cc-e8ea-73a8707cae71"
      },
      "outputs": [
        {
          "output_type": "stream",
          "name": "stdout",
          "text": [
            "100\n"
          ]
        }
      ],
      "source": [
        "squared = lambda x : x * x\n",
        "\n",
        "print (squared(10))"
      ]
    },
    {
      "cell_type": "markdown",
      "metadata": {
        "id": "1Kxtb5b9KEbV"
      },
      "source": [
        "### Lambda that returns a boolean as a result of x > y"
      ]
    },
    {
      "cell_type": "code",
      "execution_count": 88,
      "metadata": {
        "id": "4_jKxurcKEbV",
        "colab": {
          "base_uri": "https://localhost:8080/"
        },
        "outputId": "6b7ec28d-b98a-4a9e-cda7-26c0f359ddc5"
      },
      "outputs": [
        {
          "output_type": "stream",
          "name": "stdout",
          "text": [
            "False\n",
            "True\n"
          ]
        }
      ],
      "source": [
        "greater = lambda x, y : x > y\n",
        "\n",
        "print (greater(10, 20))\n",
        "print (greater(20, 10))\n"
      ]
    },
    {
      "cell_type": "markdown",
      "metadata": {
        "id": "GdRFXKixKEbV"
      },
      "source": [
        "### Function that returns a lambda"
      ]
    },
    {
      "cell_type": "code",
      "execution_count": 89,
      "metadata": {
        "id": "YX5CPQ1iKEbV",
        "colab": {
          "base_uri": "https://localhost:8080/"
        },
        "outputId": "3a8b3aec-37de-4f58-e814-25cfdf315b00"
      },
      "outputs": [
        {
          "output_type": "stream",
          "name": "stdout",
          "text": [
            "200\n",
            "400\n"
          ]
        }
      ],
      "source": [
        "def retlam( value):\n",
        "\treturn lambda parameter : parameter * value\n",
        "\n",
        "mylambda = retlam(10)\n",
        "print (mylambda(20))\n",
        "\n",
        "mylambda = retlam(20)\n",
        "print (mylambda(20))"
      ]
    },
    {
      "cell_type": "markdown",
      "metadata": {
        "id": "WnRnk_-tKEbV"
      },
      "source": [
        "### Lambda Examples"
      ]
    },
    {
      "cell_type": "code",
      "execution_count": 90,
      "metadata": {
        "id": "YOOEbV0lKEbV",
        "colab": {
          "base_uri": "https://localhost:8080/"
        },
        "outputId": "34ac087f-d74a-4c1e-a306-ea3dda97f66a"
      },
      "outputs": [
        {
          "output_type": "stream",
          "name": "stdout",
          "text": [
            "[70, 81, 63, 12, 93]\n",
            "70\n",
            "81\n",
            "63\n",
            "93\n"
          ]
        }
      ],
      "source": [
        "import random\n",
        "\n",
        "lst = [ random.randint(0,100) for i in range(5)]\n",
        "print (lst)\n",
        "\n",
        "fmin = lambda x : (v for v in x if v > 50)\n",
        "\n",
        "for v in fmin(lst):\n",
        "\tprint (v)"
      ]
    },
    {
      "cell_type": "code",
      "execution_count": 91,
      "metadata": {
        "id": "O3HZC7gyKEbV",
        "colab": {
          "base_uri": "https://localhost:8080/"
        },
        "outputId": "66b208b2-5943-442a-b8ba-a0fc86796ff3"
      },
      "outputs": [
        {
          "output_type": "stream",
          "name": "stdout",
          "text": [
            "20\n"
          ]
        }
      ],
      "source": [
        "gr = lambda x,y: x if x > y else y\n",
        "print (gr(10,20))\n"
      ]
    },
    {
      "cell_type": "code",
      "execution_count": 92,
      "metadata": {
        "id": "KaH46Z07KEbV",
        "colab": {
          "base_uri": "https://localhost:8080/"
        },
        "outputId": "433c0421-6eda-48a2-e4f3-99666b7f6dec"
      },
      "outputs": [
        {
          "output_type": "stream",
          "name": "stdout",
          "text": [
            "10\n",
            "5\n"
          ]
        }
      ],
      "source": [
        "total = 0\n",
        "def addValue(value):\n",
        "\tglobal total\n",
        "\ttotal += value\n",
        "\treturn total\n",
        "def subtractValue(value):\n",
        "\tglobal total\n",
        "\ttotal -= value\n",
        "\treturn total\n",
        "\n",
        "mylambda = lambda x, f: f(x)\n",
        "\n",
        "\n",
        "print (mylambda(10, addValue))\n",
        "print (mylambda(5, subtractValue))\n",
        "\n"
      ]
    },
    {
      "cell_type": "markdown",
      "metadata": {
        "id": "szGWGeVhKEbV"
      },
      "source": [
        "***\n",
        "#### <p style=\"font-family: Arial; font-size:1.4em; background-color: yellow; color:black;\"> Problem #6.7 </p>\n",
        "\n",
        "<style>\n",
        "\tp {\n",
        "\t\tbackground-color: black;\n",
        "\t\tcolor: white;\n",
        "\t\tborder: 1px solid grey;\n",
        "\t\tfont-size: 30px;\n",
        "\t}\n",
        "</style>\n",
        "<p> Make a Lamba function that returns the average of the list element values </p>\n",
        "- Example numbers = [1, 3, 2, 4, 5, 0] <br>\n",
        "- listavg = getavg(numbers)  # It should be 2.5\n"
      ]
    },
    {
      "cell_type": "code",
      "execution_count": 96,
      "metadata": {
        "id": "L1RsWvf5KEbV",
        "outputId": "2d058753-2c76-4e88-c6ee-81ebf1b04e6f",
        "colab": {
          "base_uri": "https://localhost:8080/"
        }
      },
      "outputs": [
        {
          "output_type": "stream",
          "name": "stdout",
          "text": [
            "2.5\n"
          ]
        }
      ],
      "source": [
        "# Complete your code Here. Lambda Function\n",
        "getavg = lambda x : sum(x) / len(x)\n",
        "\n",
        "#numbers = [1,2,3,4,5,6,7,8,9,10]\n",
        "numbers = [1, 3, 2, 4, 5, 0]\n",
        "result = getavg(numbers)\n",
        "print (result)"
      ]
    },
    {
      "cell_type": "markdown",
      "metadata": {
        "id": "p6icF_JIKEbW"
      },
      "source": [
        "***\n",
        "#### <p style=\"font-family: Arial; font-size:1.4em; background-color: yellow; color:black;\"> Problem #6.8 </p>\n",
        "\n",
        "<style>\n",
        "\tp {\n",
        "\t\tbackground-color: black;\n",
        "\t\tcolor: white;\n",
        "\t\tborder: 1px solid grey;\n",
        "\t\tfont-size: 30px;\n",
        "\t}\n",
        "</style>\n",
        "<p> Make a Lamba function that returns all the elment that are greater than the immediate right </p>\n",
        "- Example numbers = [1, 3, 2, 4, 5, 0] <br>\n",
        "- listavg = greaterRight(numbers)  # 3, 5\n"
      ]
    },
    {
      "cell_type": "code",
      "execution_count": 106,
      "metadata": {
        "id": "LvspjBtcKEbW",
        "colab": {
          "base_uri": "https://localhost:8080/"
        },
        "outputId": "b65fd444-e76f-4b40-e20a-3dd7071eafc6"
      },
      "outputs": [
        {
          "output_type": "stream",
          "name": "stdout",
          "text": [
            "[3, 5]\n"
          ]
        }
      ],
      "source": [
        "getGreater = lambda x : [x[i] for i in range(len(x)-1) if x[i] > x[i+1]]\n",
        "\n",
        "numbers = [1,3,2,4,5,0]\n",
        "result = getGreater(numbers)\n",
        "print (result)"
      ]
    },
    {
      "cell_type": "markdown",
      "metadata": {
        "id": "QT81_tTTKEbW"
      },
      "source": [
        "***\n",
        "#### <p style=\"font-family: Arial; font-size:1.4em; background-color: yellow; color:black;\"> Problem #6.9 </p>\n",
        "\n",
        "<style>\n",
        "\tp {\n",
        "\t\tbackground-color: black;\n",
        "\t\tcolor: white;\n",
        "\t\tborder: 1px solid grey;\n",
        "\t\tfont-size: 30px;\n",
        "\t}\n",
        "</style>\n",
        "<p> Make a Lamba function that recevies two lists and determine the longer list. Return the longer list </p>\n",
        "- Example n1 = [1, 3, 2, 4, 5, 0] n2 = [1,2,3]<br>\n",
        "- longerlst = compareTwoList(n1, n2)  # Return n1\n"
      ]
    },
    {
      "cell_type": "code",
      "execution_count": 111,
      "metadata": {
        "id": "NjfYGycoKEbW",
        "outputId": "bc566bdf-5272-485f-d1db-561f751201ea",
        "colab": {
          "base_uri": "https://localhost:8080/"
        }
      },
      "outputs": [
        {
          "output_type": "stream",
          "name": "stdout",
          "text": [
            "[1, 3, 2, 4, 5, 0]\n"
          ]
        }
      ],
      "source": [
        "compareTwoList = lambda x, y: x if len(x) > len(y) else y\n",
        "\n",
        "n1 = [1,3,2,4,5,0]\n",
        "n2 = [1,2,3]\n",
        "\n",
        "longer = compareTwoList(n1, n2)\n",
        "print (longer)"
      ]
    }
  ],
  "metadata": {
    "kernelspec": {
      "display_name": "Python 3.9.13 ('base')",
      "language": "python",
      "name": "python3"
    },
    "language_info": {
      "codemirror_mode": {
        "name": "ipython",
        "version": 3
      },
      "file_extension": ".py",
      "mimetype": "text/x-python",
      "name": "python",
      "nbconvert_exporter": "python",
      "pygments_lexer": "ipython3",
      "version": "3.9.17"
    },
    "orig_nbformat": 4,
    "vscode": {
      "interpreter": {
        "hash": "32cd87c0c55905266dc8232ebf1148f668af0d9324249c125246585210a29cd6"
      }
    },
    "colab": {
      "provenance": []
    }
  },
  "nbformat": 4,
  "nbformat_minor": 0
}