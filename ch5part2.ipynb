{
  "cells": [
    {
      "cell_type": "markdown",
      "metadata": {
        "id": "LACNhOdKhtKw"
      },
      "source": [
        "<style>\n",
        "\th1 {\n",
        "\t--\tbackground-color: grey;\n",
        "\t\tcolor: yellow\n",
        "\t\tborder: 3px solid grey\n",
        "\n",
        "\t}\n",
        "\tp {\n",
        "\t\tbackground-color: grey;\n",
        "\t\tcolor: white\n",
        "\t\tborder: 3px solid grey\n",
        "\n",
        "\t}\n",
        "</style>\n",
        "<h1> Chapter 5 Functions</h1>"
      ]
    },
    {
      "cell_type": "markdown",
      "metadata": {
        "id": "TFHuM3OfhtKx"
      },
      "source": [
        "***\n",
        "\n",
        "## <p style=\"background-color: grey; color: white \"> ◼️  Storing Functions in Modules </p>\n",
        "# <p style=\"font-family: Arial; font-size:1.4em;color:red;\"> 7. Storing Functions in Modules </p>\n"
      ]
    },
    {
      "cell_type": "markdown",
      "metadata": {
        "id": "sJgxl0FKhtKx"
      },
      "source": [
        "<img src=\"https://github.com/DropZonePro/MaximusMPythonCH05/blob/main/images/image71.png?raw=1\" alt=\"Storing Function in modules\" width=\"50%\">\n"
      ]
    },
    {
      "cell_type": "markdown",
      "metadata": {
        "id": "fw-YzBJehtKy"
      },
      "source": [
        "***"
      ]
    },
    {
      "cell_type": "markdown",
      "metadata": {
        "id": "WuRRlkUohtKy"
      },
      "source": [
        "#### <p style=\"font-family: Arial; font-size:1.4em; background-color: yellow; color:black;\"> Problem #7.0 </p>\n",
        "\n",
        "#### Run all the cells and figure out the results of the code"
      ]
    },
    {
      "cell_type": "markdown",
      "metadata": {
        "id": "FLOxlvODhtKy"
      },
      "source": [
        "### Create a new file as mymodule.py\n",
        "#### And define your functions in the file\n",
        "```\n",
        "def func1():\n",
        "    print(\"This is func1\")\n",
        "```\n",
        "\n",
        "### Now, let's use the function in the module\n",
        "```\n",
        "from mymodule import func1\n",
        "func1()\n",
        "```"
      ]
    },
    {
      "cell_type": "code",
      "execution_count": null,
      "metadata": {
        "collapsed": true,
        "colab": {
          "base_uri": "https://localhost:8080/",
          "height": 366
        },
        "id": "WKgvYMaRhtKy",
        "outputId": "bf28a049-bc1a-478e-9d9d-a4f24b13e211"
      },
      "outputs": [
        {
          "output_type": "error",
          "ename": "ModuleNotFoundError",
          "evalue": "No module named 'mymodule'",
          "traceback": [
            "\u001b[0;31m---------------------------------------------------------------------------\u001b[0m",
            "\u001b[0;31mModuleNotFoundError\u001b[0m                       Traceback (most recent call last)",
            "\u001b[0;32m<ipython-input-3-3a9d9734a26d>\u001b[0m in \u001b[0;36m<cell line: 0>\u001b[0;34m()\u001b[0m\n\u001b[0;32m----> 1\u001b[0;31m \u001b[0;32mfrom\u001b[0m \u001b[0mmymodule\u001b[0m \u001b[0;32mimport\u001b[0m \u001b[0mfunc1\u001b[0m\u001b[0;34m,\u001b[0m \u001b[0mfunc2\u001b[0m\u001b[0;34m,\u001b[0m \u001b[0mfunc3\u001b[0m\u001b[0;34m\u001b[0m\u001b[0;34m\u001b[0m\u001b[0m\n\u001b[0m\u001b[1;32m      2\u001b[0m \u001b[0mfunc1\u001b[0m\u001b[0;34m(\u001b[0m\u001b[0;34m)\u001b[0m\u001b[0;34m\u001b[0m\u001b[0;34m\u001b[0m\u001b[0m\n\u001b[1;32m      3\u001b[0m \u001b[0mfunc2\u001b[0m\u001b[0;34m(\u001b[0m\u001b[0;34m)\u001b[0m\u001b[0;34m\u001b[0m\u001b[0;34m\u001b[0m\u001b[0m\n\u001b[1;32m      4\u001b[0m \u001b[0mfunc3\u001b[0m\u001b[0;34m(\u001b[0m\u001b[0;34m)\u001b[0m\u001b[0;34m\u001b[0m\u001b[0;34m\u001b[0m\u001b[0m\n",
            "\u001b[0;31mModuleNotFoundError\u001b[0m: No module named 'mymodule'",
            "",
            "\u001b[0;31m---------------------------------------------------------------------------\u001b[0;32m\nNOTE: If your import is failing due to a missing package, you can\nmanually install dependencies using either !pip or !apt.\n\nTo view examples of installing some common dependencies, click the\n\"Open Examples\" button below.\n\u001b[0;31m---------------------------------------------------------------------------\u001b[0m\n"
          ],
          "errorDetails": {
            "actions": [
              {
                "action": "open_url",
                "actionText": "Open Examples",
                "url": "/notebooks/snippets/importing_libraries.ipynb"
              }
            ]
          }
        }
      ],
      "source": [
        "from mymodule import func1, func2, func3\n",
        "func1()\n",
        "func2()\n",
        "func3()"
      ]
    },
    {
      "cell_type": "markdown",
      "metadata": {
        "id": "1xPbhZ9ZhtKz"
      },
      "source": [
        "***"
      ]
    },
    {
      "cell_type": "markdown",
      "metadata": {
        "id": "E07x8NaOhtKz"
      },
      "source": [
        "### <p style=\"font-family: Arial; font-size:1.4em; background-color: yellow; color:black;\"> Problem #7.1 </p>\n",
        "\n",
        "###Create a new file as primemodule.py that includes the following functions:\n",
        "- is_prime(n): returns True if n is a prime number, False otherwise\n",
        "- print_primes(n): prints all prime numbers less than n\n",
        "- get_primes(n): returns a list of all prime numbers less than n\n",
        "\n",
        "\n",
        "### Now, let's use the functions in the module, for example, in the main function\n",
        "```\n",
        "from primemodule import is_prime, print_primes, get_primes\n",
        "is_prime(10)\n",
        "print_primes(10)\n",
        "get_primes(10)\n",
        "```"
      ]
    },
    {
      "cell_type": "code",
      "execution_count": null,
      "metadata": {
        "id": "-6LlDTPqhtKz"
      },
      "outputs": [],
      "source": [
        "# complete the code to run the main function\n",
        "def is_prime(n):\n",
        "  for i in range(2, int(n**0.5) + 1):\n",
        "    if n % i == 0:\n",
        "      return False\n",
        "    return True\n",
        "\n",
        "\n",
        "def print_primes(n):\n",
        "  for i in range(2, n):\n",
        "    if is_prime(i):\n",
        "      print(i)\n",
        "\n",
        "\n",
        "def get_primes(n):\n",
        "  primes = []\n",
        "  for i in range(2, n):\n",
        "    if is_prime(i):\n",
        "      primes.append(i)\n",
        "      return primes"
      ]
    },
    {
      "cell_type": "markdown",
      "metadata": {
        "id": "CMGUPmXchtKz"
      },
      "source": [
        "### <p style=\"font-family: Arial; font-size:1.4em; background-color: yellow; color:black;\"> Problem #7.2 </p>\n",
        "\n",
        "#### Make a function gen_lambda(number, criteria) that returns a lambda function that takes a list of numbers based on the parameter number and criteria.\n",
        "#### The criteria is one of the following:\n",
        "- \"even\": the lambda function returns the even numbers in the list\n",
        "- \"odd\": the lambda function returns the odd numbers in the list\n",
        "- \"positive\": the lambda function returns the positive numbers in the list\n",
        "- \"negative\": the lambda function returns the negative numbers in the list\n",
        "- \"zero\": the lambda function returns the number of zero numbers in the list\n",
        "\n",
        "### Now, let's use the functions in the module, for example, in the main function\n",
        "```\n",
        "even_lambda = gen_lambda(10, \"even\")\n",
        "even_lambda([1, 2, 3, 4, 5, 6, 7, 8, 9, 10])\n",
        "- it will return [2, 4, 6, 8, 10]\n",
        "\n",
        "positive_lambda = gen_lambda(10, \"positive\")\n",
        "positive_lambda([1, 2, 3, 4, 5, 6, 7, 8, 9, 10])\n",
        "- it will return [1, 2, 3, 4, 5, 6, 7, 8, 9, 10]\n",
        "\n",
        "negative_lambda = gen_lambda(10, \"negative\")\n",
        "negative_lambda([1, 2, 3, 4, 5, 6, 7, 8, 9, 10])\n",
        "- it will return []\n",
        "\n",
        "zero_lambda = gen_lambda(10, \"zero\")\n",
        "zero_lambda([1, 2, 3, 4, 0, 0, 7, 8, 9, 0])\n",
        "- it will return 3\n",
        "```"
      ]
    },
    {
      "cell_type": "markdown",
      "metadata": {
        "id": "96nmvpw6htKz"
      },
      "source": [
        "### Complete the code to run the main function"
      ]
    },
    {
      "cell_type": "code",
      "execution_count": null,
      "metadata": {
        "colab": {
          "base_uri": "https://localhost:8080/"
        },
        "id": "_lJhiYdghtKz",
        "outputId": "b413f16c-6046-4ad6-a708-15bc9b0775ee"
      },
      "outputs": [
        {
          "output_type": "execute_result",
          "data": {
            "text/plain": [
              "3"
            ]
          },
          "metadata": {},
          "execution_count": 8
        }
      ],
      "source": [
        "# complete the code to run the main function\n",
        "\n",
        "def gen_lambda(number, criteria):\n",
        "    if criteria == \"even\":\n",
        "        return lambda lst: [x for x in lst if x % 2 == 0]\n",
        "    ## complete the code for other criteria\n",
        "    elif criteria == \"odd\":\n",
        "      return lambda lst: [x for x in lst if x % 2 != 0]\n",
        "    elif criteria == \"positive\":\n",
        "      return lambda lst: [x for x in lst if x >= 1]\n",
        "    elif criteria == \"negative\":\n",
        "      return lambda lst: [x for x in lst if x < 0]\n",
        "    elif criteria == \"zero\":\n",
        "      return lambda lst: len([x for x in lst if x == 0])\n",
        "\n",
        "returned_lambda = gen_lambda(10, \"even\")\n",
        "returned_lambda([1, 2, 3, 4, 5, 6, 7, 8, 9, 10])\n",
        "# it will return [2, 4, 6, 8, 10]\n",
        "\n",
        "positive_lambda = gen_lambda(10, \"positive\")\n",
        "positive_lambda([1, 2, 3, 4, 5, 6, 7, 8, 9, 10])\n",
        "# it will return [1, 2, 3, 4, 5, 6, 7, 8, 9, 10]\n",
        "\n",
        "negative_lambda = gen_lambda(10, \"negative\")\n",
        "negative_lambda([1, 2, -3, 4, -5, -6, 7, 8, 9, 10])\n",
        "# it will return [-3, -5, -6]\n",
        "\n",
        "zero_lambda = gen_lambda(10, \"zero\")\n",
        "zero_lambda([1, 2, 3, 4, 0, 0, 7, 8, 9, 0])\n",
        "# it will return 3"
      ]
    },
    {
      "cell_type": "markdown",
      "metadata": {
        "id": "iWzNCnYFhtKz"
      },
      "source": [
        "***"
      ]
    },
    {
      "cell_type": "markdown",
      "metadata": {
        "id": "SrYga346htKz"
      },
      "source": [
        "#### Don't forget to <font color='red'> **\"commit\"** </font> your work or <font color='red'> **\"save\"** </font> in Google Colab before moving to the next section."
      ]
    },
    {
      "cell_type": "markdown",
      "metadata": {
        "id": "3nySL3wVhtKz"
      },
      "source": [
        "***\n",
        "\n",
        "## <p style=\"background-color: grey; color: white \"> ◼️  Algorithms </p>\n",
        "# <p style=\"font-family: Arial; font-size:1.4em;color:red;\"> 8. Algorithms Development with Functions </p>\n"
      ]
    },
    {
      "cell_type": "markdown",
      "metadata": {
        "id": "ok9_UK5HhtKz"
      },
      "source": [
        "### Complete the following problems with funtions\n",
        "#### In this section, you can use the additional functions if you need."
      ]
    },
    {
      "cell_type": "markdown",
      "metadata": {
        "id": "ZShYlgD-htKz"
      },
      "source": [
        "***\n",
        "#### <p style=\"font-family: Arial; font-size:1.4em; background-color: yellow; color:black;\"> Problem #8.1 </p>\n",
        "\n",
        "<style>\n",
        "\tp {\n",
        "\t\tbackground-color: black;\n",
        "\t\tcolor: white;\n",
        "\t\tborder: 1px solid grey;\n",
        "\t\tfont-size: 30px;\n",
        "\t}\n",
        "</style>\n",
        "<p> Make a function that receives two lists and figure out which list has the greater median value. Return the list with the greater median value. </p>\n",
        "- The definition of median is the middle value in an ordered list of numbers. If the list has an even number of elements, the median is the average of the two middle numbers.\n",
        "- Example n1 = [1, 3, 2, 4, 5, 0] n2 = [1,2,3] <br>\n",
        "- The median of n1 is 2.5 and the median of n2 is 2. So the function should return n1 and 2.5 together.\n"
      ]
    },
    {
      "cell_type": "markdown",
      "metadata": {
        "id": "C4wiUGXAhtK0"
      },
      "source": [
        "```\n",
        "def compare_median(lst1, lst2):\n",
        "    # Write your code here\n",
        "    return lst1, median1\n",
        "```\n",
        "\n",
        "#### Test the function\n",
        "```\n",
        "compare_median([1, 3, 2, 4, 5, 0], [1,2,3])\n",
        "```\n"
      ]
    },
    {
      "cell_type": "code",
      "execution_count": null,
      "metadata": {
        "colab": {
          "base_uri": "https://localhost:8080/"
        },
        "id": "xpVVTTGOhtK0",
        "outputId": "5bd71b5f-2117-4a36-c183-9e2cdd584396"
      },
      "outputs": [
        {
          "output_type": "stream",
          "name": "stdout",
          "text": [
            "(2.5, 2)\n"
          ]
        }
      ],
      "source": [
        "def compare_median(lst1, lst2):\n",
        "  sorted1 = sorted(lst1)\n",
        "  sorted2 = sorted(lst2)\n",
        "  x = len(sorted1)\n",
        "  z = len(sorted2)\n",
        "\n",
        "  if x % 2 == 0:\n",
        "    median1 = (sorted1[x//2] + sorted1[x//2 - 1])/2\n",
        "  else:\n",
        "    median1 = sorted1[x//2]\n",
        "\n",
        "  if z % 2 == 0:\n",
        "    median2 = (sorted2[z//2] + sorted2[z//2 - 1])/2\n",
        "  else:\n",
        "    median2 = sorted2[z//2]\n",
        "\n",
        "  return median1, median2\n",
        "\n",
        "def main():\n",
        "  lst1 = [1, 3, 2, 4, 5, 0]\n",
        "  lst2 = [1,2,3]\n",
        "  result = compare_median(lst1, lst2)\n",
        "  print(result)\n",
        "\n",
        "if __name__ == \"__main__\":\n",
        "      main()"
      ]
    },
    {
      "cell_type": "markdown",
      "metadata": {
        "id": "pvCjUAc4htK0"
      },
      "source": [
        "***\n",
        "#### <p style=\"font-family: Arial; font-size:1.4em; background-color: yellow; color:black;\"> Problem #8.2 </p>\n",
        "<style>\n",
        "\tp {\n",
        "\t\tbackground-color: black;\n",
        "\t\tcolor: white;\n",
        "\t\tborder: 1px solid grey;\n",
        "\t\tfont-size: 30px;\n",
        "\t}\n",
        "</style>\n",
        "<p> Make a function that receives a list of numbers and returns the second largest number in the list. </p>\n",
        "\n",
        "```\n",
        "Example:\n",
        " Input: [5, 2, 8, 1, 9, 3]\n",
        " Output: 8\n",
        "\n",
        " Note: If the list has less than two unique elements, the function should return None.\n",
        " ```\n",
        "\n",
        "\n",
        "\n",
        "```\n",
        "def second_largest(lst):\n",
        "    # Write your code here\n",
        "    return second_largest\n",
        "```\n",
        "\n",
        "##### Test the function\n",
        "```\n",
        "\n"
      ]
    },
    {
      "cell_type": "code",
      "execution_count": 4,
      "metadata": {
        "id": "J-qciXZ8htK0",
        "colab": {
          "base_uri": "https://localhost:8080/"
        },
        "outputId": "2ab2b46f-0ce2-4e94-851d-8bb9c4489497"
      },
      "outputs": [
        {
          "output_type": "stream",
          "name": "stdout",
          "text": [
            "8\n"
          ]
        }
      ],
      "source": [
        "def second_largest(lst):\n",
        "  lst.sort()\n",
        "  if len(lst) < 2:\n",
        "    return None\n",
        "  else:\n",
        "    return lst[-2]\n",
        "\n",
        "\n",
        "\n",
        "def main():\n",
        "  lst = [5, 2, 8, 1, 9, 3]\n",
        "  result = second_largest(lst)\n",
        "  print(result)\n",
        "\n",
        "if __name__ == \"__main__\":\n",
        "  main()"
      ]
    },
    {
      "cell_type": "markdown",
      "metadata": {
        "id": "d5mXdOpphtK0"
      },
      "source": [
        "***\n",
        "#### <p style=\"font-family: Arial; font-size:1.4em; background-color: yellow; color:black;\"> Problem #8.3 </p>\n",
        "<style>\n",
        "\tp {\n",
        "\t\tbackground-color: black;\n",
        "\t\tcolor: white;\n",
        "\t\tborder: 1px solid grey;\n",
        "\t\tfont-size: 30px;\n",
        "\t}\n",
        "</style>\n",
        "<p> Make a function that receives a list of tuples which contains two integers values and return a list of tuples where the second value of each tuple is greater than the first value. </p>\n",
        "\n",
        "```\n",
        "For example:\n",
        "numbers = [(4, 1), (3, 2), (5, 0), (2, 3), (1, 4), (6, -1), (0, 5), (7, 5), (8, 4), (9, 3), (10, 2), (11, 1), (12, 0), (13, -1), (14, -2), (15, -3)]\n",
        "Output = [(2,3), (1,4), (0,5)]\n",
        "\n",
        "##### Test the function\n",
        "numbers = [(4, 1), (3, 2), (5, 0), (2, 3), (1, 4)]\n",
        "filter_tuples(numbers)\n",
        "\n",
        "```\n",
        "\n"
      ]
    },
    {
      "cell_type": "code",
      "execution_count": 8,
      "metadata": {
        "id": "EHTOU6dChtK0",
        "colab": {
          "base_uri": "https://localhost:8080/"
        },
        "outputId": "97fa439e-aa05-4f66-8255-34094486921a"
      },
      "outputs": [
        {
          "output_type": "stream",
          "name": "stdout",
          "text": [
            "[(2, 3), (1, 4), (0, 5)]\n"
          ]
        }
      ],
      "source": [
        "def filter_tuples(numbers):\n",
        "  filterednums = []\n",
        "  for i in numbers:\n",
        "    if i[1] > i[0]:\n",
        "      filterednums.append(i)\n",
        "  return filterednums\n",
        "\n",
        "\n",
        "def main():\n",
        "  numbers = [(4, 1), (3, 2), (5, 0), (2, 3), (1, 4), (6, -1), (0, 5), (7, 5), (8, 4), (9, 3), (10, 2), (11, 1), (12, 0), (13, -1), (14, -2), (15, -3)]\n",
        "  filteredlist = filter_tuples(numbers)\n",
        "  print(filteredlist)\n",
        "\n",
        "if __name__ == \"__main__\":\n",
        "  main()"
      ]
    },
    {
      "cell_type": "markdown",
      "metadata": {
        "id": "HfccYAR2htK0"
      },
      "source": [
        "***\n",
        "#### <p style=\"font-family: Arial; font-size:1.4em; background-color: yellow; color:black;\"> Problem #8.4 </p>\n",
        "<style>\n",
        "\tp {\n",
        "\t\tbackground-color: black;\n",
        "\t\tcolor: white;\n",
        "\t\tborder: 1px solid grey;\n",
        "\t\tfont-size: 30px;\n",
        "\t}\n",
        "</style>\n",
        "<p> Make a function that receives a list of tuples which contains two integers values and sort the list based on the gap of two values in each tuple. The tuple with the smallest gap should be the first one in the sorted list. If the gap is the same, then sort based on the first value in the tuple. </p>\n",
        "\n",
        "\n",
        "```\n",
        "For example:\n",
        "numbers = [(4, 1), (3, 2), (5, 0), (2, 3), (1, 4)]\n",
        "Output = [(3, 2), (2,3 ), (1,4), (4,1), (5,0)]\n",
        "\n",
        "\n",
        "##### Test the function\n",
        "sort_tuples(numbers)\n",
        "- Expected output: [(3, 2), (2,3 ), (1,4), (4,1), (5,0)]\n",
        "```\n",
        "\n"
      ]
    },
    {
      "cell_type": "code",
      "execution_count": 35,
      "metadata": {
        "id": "-zz1vHaWhtK0",
        "colab": {
          "base_uri": "https://localhost:8080/"
        },
        "outputId": "8555fdda-214b-416b-f63c-153c5b61a4b9"
      },
      "outputs": [
        {
          "output_type": "stream",
          "name": "stdout",
          "text": [
            "[(3, 2), (2, 3), (4, 1), (1, 4), (5, 0)]\n"
          ]
        }
      ],
      "source": [
        "def sort_tuples(numbers):\n",
        "  numbers.sort(key=lambda x: (abs(x[0] - x[1]), x[1]))\n",
        "  return numbers\n",
        "\n",
        "\n",
        "def main():\n",
        "  numbers = [(4, 1), (3, 2), (5, 0), (2, 3), (1, 4)]\n",
        "  sortedlist = sort_tuples(numbers)\n",
        "  print(sortedlist)\n",
        "\n",
        "if __name__ == \"__main__\":\n",
        "  main()\n"
      ]
    },
    {
      "cell_type": "markdown",
      "metadata": {
        "id": "c-hpJzKBhtK0"
      },
      "source": [
        "***\n",
        "#### <p style=\"font-family: Arial; font-size:1.4em; background-color: yellow; color:black;\"> Problem #8.5 </p>\n",
        "<style>\n",
        "\tp {\n",
        "\t\tcolor: white;\n",
        "\t\tborder: 1px solid grey;\n",
        "\t\tfont-size: 28;\n",
        "\t}\n",
        "</style>\n",
        "<p> Make a function that receives a string value and returns the encoded string by shifting each letter by \"seed\" value. </p>\n",
        "\n",
        "- If the letter is not a letter, then keep it as it is.\n",
        "- If the lettter + seed is greater than 'z', then wrap around to the beginning of the alphabet.\n",
        "\n",
        "```\n",
        "- For example, if the seed is 2, then 'a' will be 'c', 'b' will be 'd', ..., 'z' will be 'b'.\n",
        "\n",
        "##### Test the function\n",
        "```\n",
        "encode_string(\"hello\", 2) <br>\n",
        "The expected output is \"jgnnq\"\n",
        "```\n",
        "\n"
      ]
    },
    {
      "cell_type": "code",
      "execution_count": 48,
      "metadata": {
        "id": "jLm5WBqqhtK0",
        "colab": {
          "base_uri": "https://localhost:8080/"
        },
        "outputId": "54522545-9f9f-4df8-ae96-f3357440b870"
      },
      "outputs": [
        {
          "output_type": "stream",
          "name": "stdout",
          "text": [
            "jgnnq\n"
          ]
        }
      ],
      "source": [
        "def ecnode_string(string, seed):\n",
        "  newstring = ''\n",
        "  for i in string:\n",
        "    if i.isalpha():\n",
        "      if ord(i) + seed > ord('z'):\n",
        "        newstring += chr(ord(i) + seed - 26)\n",
        "      else:\n",
        "        newstring += chr(ord(i) + seed)\n",
        "    else:\n",
        "      newstring += i\n",
        "  return newstring\n",
        "\n",
        "def main():\n",
        "  string = \"hello\"\n",
        "  seed = 2\n",
        "  finalstring = ecnode_string(string, seed)\n",
        "  print(finalstring)\n",
        "\n",
        "if __name__ == \"__main__\":\n",
        "  main()\n",
        "\n"
      ]
    },
    {
      "cell_type": "markdown",
      "metadata": {
        "id": "o4jHUuhDhtK0"
      },
      "source": [
        "***\n",
        "#### <p style=\"font-family: Arial; font-size:1.4em; background-color: yellow; color:black;\"> Problem #8.6 </p>\n",
        "<style>\n",
        " \tp {\n",
        " \t\tcolor: white;\n",
        " \t\tborder: 1px solid grey;\n",
        " \t\tfont-size: 28;\n",
        " \t}\n",
        "</style>\n",
        "<p> Make a function that takes a list of lists as input and performs the following operations: </p>\n",
        "\n",
        "1. Calculate the sum of each inner list\n",
        "2. Find the maximum sum among all inner lists\n",
        "3. Return a tuple containing:\n",
        "   a) The list of sums\n",
        "   b) The index of the inner list with the maximum sum\n",
        "   c) The maximum sum itself\n",
        "\n",
        "For example:\n",
        "```python\n",
        "input_list = [[1, 2, 3], [4, 5], [6, 7, 8, 9]]\n",
        "result = find_max_sum(input_list)\n",
        "print(result)\n",
        "Expected output: ([6, 9, 30], 2, 30)\n",
        "```\n",
        "\n",
        "##### Test the function\n",
        "```\n",
        "find_max_sum([[1, 2, 3], [4, 5], [6, 7, 8, 9]])\n",
        "The expected output is ([6, 9, 30], 2, 30)\n",
        "```\n",
        "\n"
      ]
    },
    {
      "cell_type": "code",
      "execution_count": 50,
      "metadata": {
        "id": "72LZDl9khtK0",
        "colab": {
          "base_uri": "https://localhost:8080/"
        },
        "outputId": "90506508-28e3-49b9-8b9a-a3e29dc4cbc7"
      },
      "outputs": [
        {
          "output_type": "stream",
          "name": "stdout",
          "text": [
            "([6, 9, 30], 2, 30)\n"
          ]
        }
      ],
      "source": [
        "def find_max_sum(input_list):\n",
        "  sumlist = []\n",
        "  for i in input_list:\n",
        "    sumlist.append(sum(i))\n",
        "    maxlist = max(sumlist)\n",
        "    idx = sumlist.index(maxlist)\n",
        "  return sumlist, idx, maxlist\n",
        "\n",
        "\n",
        "def main():\n",
        "  input_list = [[1, 2, 3], [4, 5], [6, 7, 8, 9]]\n",
        "  result = find_max_sum(input_list)\n",
        "  print(result)\n",
        "if __name__ == \"__main__\":\n",
        "  main()"
      ]
    },
    {
      "cell_type": "markdown",
      "metadata": {
        "id": "BqiMFvLhhtK0"
      },
      "source": [
        "***"
      ]
    },
    {
      "cell_type": "markdown",
      "metadata": {
        "id": "ziFFcaNMhtK0"
      },
      "source": [
        "<p style=\"font-family: Arial; font-size:1.4em; background-color: yellow; color:black;\"> Problem #8.7 </p>\n",
        "<style>\n",
        " \tp {\n",
        " \t\tcolor: white;\n",
        " \t\tborder: 1px solid grey;\n",
        " \t\tfont-size: 28;\n",
        " \t}\n",
        "</style>\n",
        "<p> Make a function that takes a list that contains a integer value and the size of the new sub list. The function returns a list of sub lists with the size of the new sub list. </p>\n",
        "\n",
        "- For example, if the input list is [1, 2, 3, 4, 5, 6, 7, 8, 9, 10] and the size of the new sub list is 3, the function returns [[1, 2, 3], [4, 5, 6], [7, 8, 9], [10]].\n",
        "- Another example, if the input list is [1, 2, 3, 4, 5, 6, 7, 8, 9, 10, 11] and the size of the new sub list is 6, the function returns [[1, 2, 3, 4, 5, 6], [7, 8, 9, 10, 11]].\n",
        "\n",
        "\n",
        "\n",
        "### Function call example,\n",
        "```\n",
        "sub_lists([1, 2, 3, 4, 5, 6, 7, 8, 9, 10], 3)\n",
        "```\n",
        "### Expected output:\n",
        "```\n",
        "[[1, 2, 3], [4, 5, 6], [7, 8, 9], [10]]\n",
        "```\n",
        "***\n",
        "\n",
        "\n"
      ]
    },
    {
      "cell_type": "code",
      "execution_count": null,
      "metadata": {
        "id": "zy8di-N8htK0"
      },
      "outputs": [],
      "source": []
    },
    {
      "cell_type": "markdown",
      "metadata": {
        "id": "uVXMgZE7htK1"
      },
      "source": [
        "***"
      ]
    },
    {
      "cell_type": "markdown",
      "metadata": {
        "id": "HNFO0a41htK1"
      },
      "source": [
        "<p style=\"font-family: Arial; font-size:1.4em; background-color: yellow; color:black;\"> Problem #8.8 </p>\n",
        "<style>\n",
        " \tp {\n",
        " \t\tcolor: white;\n",
        " \t\tborder: 1px solid grey;\n",
        " \t\tfont-size: 28;\n",
        " \t}\n",
        "</style>\n",
        "<p> Make a function that takes a list of lists as input and performs the following operations: </p>\n",
        "\n",
        "- get the average of the length of the lists.\n",
        "- re-arrange the list based on the average\n",
        "- For example, if the input list is [[1, 2, 3], [4, 5], [6, 7, 8, 9]], the average of the length of the lists is 3.\n",
        "- The list will be rearranged to [[1, 2, 3], [4, 5, 6], [7, 8, 9]]\n",
        "- If the total number of elements is not divisible by the average, the last list will be shorter than the others.\n",
        "- For example, if the input list is [[1, 2, 3], [4, 5], [6, 7, 8, 9, 10]], the average of the length of the lists is 3.\n",
        "- The list will be rearranged to [[1, 2, 3], [4, 5, 6], [7, 8, 9], [10]].\n",
        "\n",
        "\n"
      ]
    },
    {
      "cell_type": "code",
      "execution_count": null,
      "metadata": {
        "id": "9TgvHEvbhtK1"
      },
      "outputs": [],
      "source": [
        "# complete the code"
      ]
    },
    {
      "cell_type": "markdown",
      "metadata": {
        "id": "pAL-zXj7htK1"
      },
      "source": [
        "***"
      ]
    }
  ],
  "metadata": {
    "kernelspec": {
      "display_name": "Python 3.9.13 ('base')",
      "language": "python",
      "name": "python3"
    },
    "language_info": {
      "codemirror_mode": {
        "name": "ipython",
        "version": 3
      },
      "file_extension": ".py",
      "mimetype": "text/x-python",
      "name": "python",
      "nbconvert_exporter": "python",
      "pygments_lexer": "ipython3",
      "version": "3.9.17"
    },
    "orig_nbformat": 4,
    "vscode": {
      "interpreter": {
        "hash": "32cd87c0c55905266dc8232ebf1148f668af0d9324249c125246585210a29cd6"
      }
    },
    "colab": {
      "provenance": []
    }
  },
  "nbformat": 4,
  "nbformat_minor": 0
}